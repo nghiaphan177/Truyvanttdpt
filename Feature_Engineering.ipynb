{
  "nbformat": 4,
  "nbformat_minor": 0,
  "metadata": {
    "colab": {
      "name": " Feature Engineering.ipynb",
      "provenance": [],
      "authorship_tag": "ABX9TyN/xXVcrTDc3sqdGT/zyWzJ",
      "include_colab_link": true
    },
    "kernelspec": {
      "name": "python3",
      "display_name": "Python 3"
    }
  },
  "cells": [
    {
      "cell_type": "markdown",
      "metadata": {
        "id": "view-in-github",
        "colab_type": "text"
      },
      "source": [
        "<a href=\"https://colab.research.google.com/github/nghiaphan177/Truyvanttdpt/blob/main/Feature_Engineering.ipynb\" target=\"_parent\"><img src=\"https://colab.research.google.com/assets/colab-badge.svg\" alt=\"Open In Colab\"/></a>"
      ]
    },
    {
      "cell_type": "code",
      "metadata": {
        "id": "naI0tQ4rkqIe"
      },
      "source": [
        "import pickle\n",
        "import pandas as pd \n",
        "import re\n",
        "from sklearn.feature_extraction.text import TfidfVectorizer\n",
        "from sklearn.model_selection import train_test_split\n",
        "import numpy as np"
      ],
      "execution_count": null,
      "outputs": []
    },
    {
      "cell_type": "code",
      "metadata": {
        "id": "au8ayqVKn0Mm"
      },
      "source": [
        "with open('News_dataset.pickle', 'rb') as data:\n",
        "    df = pickle.load(data)"
      ],
      "execution_count": null,
      "outputs": []
    },
    {
      "cell_type": "code",
      "metadata": {
        "id": "QW8T7PjVpeJ-",
        "colab": {
          "base_uri": "https://localhost:8080/",
          "height": 204
        },
        "outputId": "39c8db4c-a257-435c-ff4e-7091e74b503d"
      },
      "source": [
        "df.head()"
      ],
      "execution_count": null,
      "outputs": [
        {
          "output_type": "execute_result",
          "data": {
            "text/html": [
              "<div>\n",
              "<style scoped>\n",
              "    .dataframe tbody tr th:only-of-type {\n",
              "        vertical-align: middle;\n",
              "    }\n",
              "\n",
              "    .dataframe tbody tr th {\n",
              "        vertical-align: top;\n",
              "    }\n",
              "\n",
              "    .dataframe thead th {\n",
              "        text-align: right;\n",
              "    }\n",
              "</style>\n",
              "<table border=\"1\" class=\"dataframe\">\n",
              "  <thead>\n",
              "    <tr style=\"text-align: right;\">\n",
              "      <th></th>\n",
              "      <th>content</th>\n",
              "      <th>category</th>\n",
              "      <th>id</th>\n",
              "      <th>News_length</th>\n",
              "    </tr>\n",
              "  </thead>\n",
              "  <tbody>\n",
              "    <tr>\n",
              "      <th>0</th>\n",
              "      <td>\\nTùng Dương chọn hát 12 ca khúc nhạc rock mới...</td>\n",
              "      <td>giai-tri</td>\n",
              "      <td>1</td>\n",
              "      <td>4742</td>\n",
              "    </tr>\n",
              "    <tr>\n",
              "      <th>1</th>\n",
              "      <td>\\nH'Hen Niê, Đức Phúc... tham gia trò chơi đăn...</td>\n",
              "      <td>giai-tri</td>\n",
              "      <td>1</td>\n",
              "      <td>119</td>\n",
              "    </tr>\n",
              "    <tr>\n",
              "      <th>2</th>\n",
              "      <td>\\nHà NộiTriển lãm “Người bay và giấc mơ siêu t...</td>\n",
              "      <td>giai-tri</td>\n",
              "      <td>1</td>\n",
              "      <td>1706</td>\n",
              "    </tr>\n",
              "    <tr>\n",
              "      <th>3</th>\n",
              "      <td>\\nDance For Youth bắt đầu vòng Online từ 0h ng...</td>\n",
              "      <td>giai-tri</td>\n",
              "      <td>1</td>\n",
              "      <td>1835</td>\n",
              "    </tr>\n",
              "    <tr>\n",
              "      <th>4</th>\n",
              "      <td>\\nNgọc Hân mất hai tháng may áo dài cho các th...</td>\n",
              "      <td>giai-tri</td>\n",
              "      <td>1</td>\n",
              "      <td>1572</td>\n",
              "    </tr>\n",
              "  </tbody>\n",
              "</table>\n",
              "</div>"
            ],
            "text/plain": [
              "                                             content  category  id  News_length\n",
              "0  \\nTùng Dương chọn hát 12 ca khúc nhạc rock mới...  giai-tri   1         4742\n",
              "1  \\nH'Hen Niê, Đức Phúc... tham gia trò chơi đăn...  giai-tri   1          119\n",
              "2  \\nHà NộiTriển lãm “Người bay và giấc mơ siêu t...  giai-tri   1         1706\n",
              "3  \\nDance For Youth bắt đầu vòng Online từ 0h ng...  giai-tri   1         1835\n",
              "4  \\nNgọc Hân mất hai tháng may áo dài cho các th...  giai-tri   1         1572"
            ]
          },
          "metadata": {
            "tags": []
          },
          "execution_count": 3
        }
      ]
    },
    {
      "cell_type": "code",
      "metadata": {
        "id": "tkAIi2zVqPRh",
        "colab": {
          "base_uri": "https://localhost:8080/",
          "height": 171
        },
        "outputId": "d7ac3bc6-b66f-457d-c5d4-2143b2cdefee"
      },
      "source": [
        "df.loc[4]['content']"
      ],
      "execution_count": null,
      "outputs": [
        {
          "output_type": "execute_result",
          "data": {
            "application/vnd.google.colaboratory.intrinsic+json": {
              "type": "string"
            },
            "text/plain": [
              "'\\nNgọc Hân mất hai tháng may áo dài cho các thí sinh trong đêm cuối của Hoa hậu Việt Nam 2020.\\nTrong chung kết vào tối 20/11, Ngọc Hân là nhà thiết kế của phần thi áo dài và trình diễn cùng các thí sinh. Cô nói: \"Tôi rất vinh dự bởi đúng dịp tròn 10 năm đăng quang Hoa hậu Việt Nam, tôi trở lại sân khấu chung kết cuộc thi ở vai trò mới. Rất cảm ơn ban tổ chức đã trao cơ hội để tôi thể hiện khía cạnh khác của mình. Đây sẽ là một kỷ niệm đặc biệt trong cuộc đời của tôi\".\\nBộ sưu tập áo dài của Ngọc Hân lần này còn gắn liền sự kiện 1.010 năm Thăng Long - Hà Nội. Sau khoảng hai tháng nghiên cứu tại các bảo tàng lịch sử, cô đưa cảm hứng hoa văn, họa tiết tiết gốm sứ thời Lý - Trần lên trang phục. Chủ đề này cũng từng được cô chọn cho đề án tốt nghiệp Đại học Mỹ thuật Công nghiệp cách đây chín năm. Cô nói: \"Bộ sưu tập được thầy cô đánh giá cao và giúp tôi đạt thành tích top ba toàn khoa. Tôi hy vọng các thiết kế sắp tới cũng để lại dấu ấn khó quên cho giới chuyên môn và người yêu thích trang phục truyền thống\".\\nCách đây vài tháng, Ngọc Hân đã về làng lụa Hà Đông đặt vải. Cô tham gia vào quá trình sản xuất, từ việc lên ý tưởng thiết kế, chọn chất liệu đến cắt may, thêu họa tiết. Các mẫu áo dài vẫn giữ phom dáng truyền thống, cách tân ở phần tay và tà, nhấn bằng họa tiết thêu tay. Tuần trước, cô thử trang phục với các thí sinh.\\nSau 10 năm đăng quang Hoa hậu Việt Nam, Ngọc Hân ngày càng được công chúng yêu mến về tính cách gần gũi và hình ảnh không vướng scandal. Người đẹp sinh năm 1989 sống với đam mê thiết kế thời trang, thích nấu ăn, chơi piano...\\n\\nÝ Ly\\n\\n'"
            ]
          },
          "metadata": {
            "tags": []
          },
          "execution_count": 4
        }
      ]
    },
    {
      "cell_type": "markdown",
      "metadata": {
        "id": "jGO7nrzjqX8v"
      },
      "source": [
        "## 1. Text cleaning and preparation"
      ]
    },
    {
      "cell_type": "markdown",
      "metadata": {
        "id": "IvzAkb_Bqesd"
      },
      "source": [
        " **1.1. Remove unnecssary character**"
      ]
    },
    {
      "cell_type": "code",
      "metadata": {
        "id": "P2iDcaJe_Un4"
      },
      "source": [
        "df['content_parsed_1'] = df['content'].replace(regex=r'[^\\d\\w ]', value='')"
      ],
      "execution_count": null,
      "outputs": []
    },
    {
      "cell_type": "markdown",
      "metadata": {
        "id": "9ndWpnONsCS8"
      },
      "source": [
        " **1.2. downcase**"
      ]
    },
    {
      "cell_type": "code",
      "metadata": {
        "id": "O8tIVqgD_2yV"
      },
      "source": [
        "df['content_parsed_2'] = df['content_parsed_1'].str.lower()"
      ],
      "execution_count": null,
      "outputs": []
    },
    {
      "cell_type": "code",
      "metadata": {
        "id": "Ehk1CnEc_-dc",
        "colab": {
          "base_uri": "https://localhost:8080/",
          "height": 289
        },
        "outputId": "fcb6ffde-e87d-4dce-c45f-3dde41ea2a11"
      },
      "source": [
        "df.head()"
      ],
      "execution_count": null,
      "outputs": [
        {
          "output_type": "execute_result",
          "data": {
            "text/html": [
              "<div>\n",
              "<style scoped>\n",
              "    .dataframe tbody tr th:only-of-type {\n",
              "        vertical-align: middle;\n",
              "    }\n",
              "\n",
              "    .dataframe tbody tr th {\n",
              "        vertical-align: top;\n",
              "    }\n",
              "\n",
              "    .dataframe thead th {\n",
              "        text-align: right;\n",
              "    }\n",
              "</style>\n",
              "<table border=\"1\" class=\"dataframe\">\n",
              "  <thead>\n",
              "    <tr style=\"text-align: right;\">\n",
              "      <th></th>\n",
              "      <th>content</th>\n",
              "      <th>category</th>\n",
              "      <th>id</th>\n",
              "      <th>News_length</th>\n",
              "      <th>content_parsed_1</th>\n",
              "      <th>content_parsed_2</th>\n",
              "    </tr>\n",
              "  </thead>\n",
              "  <tbody>\n",
              "    <tr>\n",
              "      <th>0</th>\n",
              "      <td>\\nTùng Dương chọn hát 12 ca khúc nhạc rock mới...</td>\n",
              "      <td>giai-tri</td>\n",
              "      <td>1</td>\n",
              "      <td>4742</td>\n",
              "      <td>Tùng Dương chọn hát 12 ca khúc nhạc rock mới c...</td>\n",
              "      <td>tùng dương chọn hát 12 ca khúc nhạc rock mới c...</td>\n",
              "    </tr>\n",
              "    <tr>\n",
              "      <th>1</th>\n",
              "      <td>\\nH'Hen Niê, Đức Phúc... tham gia trò chơi đăn...</td>\n",
              "      <td>giai-tri</td>\n",
              "      <td>1</td>\n",
              "      <td>119</td>\n",
              "      <td>HHen Niê Đức Phúc tham gia trò chơi đăng ảnh c...</td>\n",
              "      <td>hhen niê đức phúc tham gia trò chơi đăng ảnh c...</td>\n",
              "    </tr>\n",
              "    <tr>\n",
              "      <th>2</th>\n",
              "      <td>\\nHà NộiTriển lãm “Người bay và giấc mơ siêu t...</td>\n",
              "      <td>giai-tri</td>\n",
              "      <td>1</td>\n",
              "      <td>1706</td>\n",
              "      <td>Hà NộiTriển lãm Người bay và giấc mơ siêu thực...</td>\n",
              "      <td>hà nộitriển lãm người bay và giấc mơ siêu thực...</td>\n",
              "    </tr>\n",
              "    <tr>\n",
              "      <th>3</th>\n",
              "      <td>\\nDance For Youth bắt đầu vòng Online từ 0h ng...</td>\n",
              "      <td>giai-tri</td>\n",
              "      <td>1</td>\n",
              "      <td>1835</td>\n",
              "      <td>Dance For Youth bắt đầu vòng Online từ 0h ngày...</td>\n",
              "      <td>dance for youth bắt đầu vòng online từ 0h ngày...</td>\n",
              "    </tr>\n",
              "    <tr>\n",
              "      <th>4</th>\n",
              "      <td>\\nNgọc Hân mất hai tháng may áo dài cho các th...</td>\n",
              "      <td>giai-tri</td>\n",
              "      <td>1</td>\n",
              "      <td>1572</td>\n",
              "      <td>Ngọc Hân mất hai tháng may áo dài cho các thí ...</td>\n",
              "      <td>ngọc hân mất hai tháng may áo dài cho các thí ...</td>\n",
              "    </tr>\n",
              "  </tbody>\n",
              "</table>\n",
              "</div>"
            ],
            "text/plain": [
              "                                             content  ...                                   content_parsed_2\n",
              "0  \\nTùng Dương chọn hát 12 ca khúc nhạc rock mới...  ...  tùng dương chọn hát 12 ca khúc nhạc rock mới c...\n",
              "1  \\nH'Hen Niê, Đức Phúc... tham gia trò chơi đăn...  ...  hhen niê đức phúc tham gia trò chơi đăng ảnh c...\n",
              "2  \\nHà NộiTriển lãm “Người bay và giấc mơ siêu t...  ...  hà nộitriển lãm người bay và giấc mơ siêu thực...\n",
              "3  \\nDance For Youth bắt đầu vòng Online từ 0h ng...  ...  dance for youth bắt đầu vòng online từ 0h ngày...\n",
              "4  \\nNgọc Hân mất hai tháng may áo dài cho các th...  ...  ngọc hân mất hai tháng may áo dài cho các thí ...\n",
              "\n",
              "[5 rows x 6 columns]"
            ]
          },
          "metadata": {
            "tags": []
          },
          "execution_count": 7
        }
      ]
    },
    {
      "cell_type": "code",
      "metadata": {
        "id": "Bi6ML5rwAI62"
      },
      "source": [
        "list_columns = ['content', 'category', 'content_parsed_2']\n",
        "df = df[list_columns]\n",
        "\n",
        "df = df.rename(columns={'content_parsed_2' : 'content_parsed'})"
      ],
      "execution_count": null,
      "outputs": []
    },
    {
      "cell_type": "code",
      "metadata": {
        "id": "vyh1gmLZAq3p",
        "colab": {
          "base_uri": "https://localhost:8080/",
          "height": 204
        },
        "outputId": "e78e7dbc-bff3-4985-c612-04e9dec01ec7"
      },
      "source": [
        "df.head()"
      ],
      "execution_count": null,
      "outputs": [
        {
          "output_type": "execute_result",
          "data": {
            "text/html": [
              "<div>\n",
              "<style scoped>\n",
              "    .dataframe tbody tr th:only-of-type {\n",
              "        vertical-align: middle;\n",
              "    }\n",
              "\n",
              "    .dataframe tbody tr th {\n",
              "        vertical-align: top;\n",
              "    }\n",
              "\n",
              "    .dataframe thead th {\n",
              "        text-align: right;\n",
              "    }\n",
              "</style>\n",
              "<table border=\"1\" class=\"dataframe\">\n",
              "  <thead>\n",
              "    <tr style=\"text-align: right;\">\n",
              "      <th></th>\n",
              "      <th>content</th>\n",
              "      <th>category</th>\n",
              "      <th>content_parsed</th>\n",
              "    </tr>\n",
              "  </thead>\n",
              "  <tbody>\n",
              "    <tr>\n",
              "      <th>0</th>\n",
              "      <td>\\nTùng Dương chọn hát 12 ca khúc nhạc rock mới...</td>\n",
              "      <td>giai-tri</td>\n",
              "      <td>tùng dương chọn hát 12 ca khúc nhạc rock mới c...</td>\n",
              "    </tr>\n",
              "    <tr>\n",
              "      <th>1</th>\n",
              "      <td>\\nH'Hen Niê, Đức Phúc... tham gia trò chơi đăn...</td>\n",
              "      <td>giai-tri</td>\n",
              "      <td>hhen niê đức phúc tham gia trò chơi đăng ảnh c...</td>\n",
              "    </tr>\n",
              "    <tr>\n",
              "      <th>2</th>\n",
              "      <td>\\nHà NộiTriển lãm “Người bay và giấc mơ siêu t...</td>\n",
              "      <td>giai-tri</td>\n",
              "      <td>hà nộitriển lãm người bay và giấc mơ siêu thực...</td>\n",
              "    </tr>\n",
              "    <tr>\n",
              "      <th>3</th>\n",
              "      <td>\\nDance For Youth bắt đầu vòng Online từ 0h ng...</td>\n",
              "      <td>giai-tri</td>\n",
              "      <td>dance for youth bắt đầu vòng online từ 0h ngày...</td>\n",
              "    </tr>\n",
              "    <tr>\n",
              "      <th>4</th>\n",
              "      <td>\\nNgọc Hân mất hai tháng may áo dài cho các th...</td>\n",
              "      <td>giai-tri</td>\n",
              "      <td>ngọc hân mất hai tháng may áo dài cho các thí ...</td>\n",
              "    </tr>\n",
              "  </tbody>\n",
              "</table>\n",
              "</div>"
            ],
            "text/plain": [
              "                                             content  ...                                     content_parsed\n",
              "0  \\nTùng Dương chọn hát 12 ca khúc nhạc rock mới...  ...  tùng dương chọn hát 12 ca khúc nhạc rock mới c...\n",
              "1  \\nH'Hen Niê, Đức Phúc... tham gia trò chơi đăn...  ...  hhen niê đức phúc tham gia trò chơi đăng ảnh c...\n",
              "2  \\nHà NộiTriển lãm “Người bay và giấc mơ siêu t...  ...  hà nộitriển lãm người bay và giấc mơ siêu thực...\n",
              "3  \\nDance For Youth bắt đầu vòng Online từ 0h ng...  ...  dance for youth bắt đầu vòng online từ 0h ngày...\n",
              "4  \\nNgọc Hân mất hai tháng may áo dài cho các th...  ...  ngọc hân mất hai tháng may áo dài cho các thí ...\n",
              "\n",
              "[5 rows x 3 columns]"
            ]
          },
          "metadata": {
            "tags": []
          },
          "execution_count": 9
        }
      ]
    },
    {
      "cell_type": "markdown",
      "metadata": {
        "id": "dKy2vaShsFAb"
      },
      "source": [
        "## 2. Label encoding"
      ]
    },
    {
      "cell_type": "code",
      "metadata": {
        "id": "3n025M62sMAT"
      },
      "source": [
        "category_codes = {'giai-tri' : 0,\n",
        "                  'phap-luat' : 1,\n",
        "                  'kinh-doanh' : 2}"
      ],
      "execution_count": null,
      "outputs": []
    },
    {
      "cell_type": "code",
      "metadata": {
        "id": "IIp_6ARmseu2"
      },
      "source": [
        "df['category_code'] = df['category']\n",
        "df = df.replace({'category_code' : category_codes})"
      ],
      "execution_count": null,
      "outputs": []
    },
    {
      "cell_type": "code",
      "metadata": {
        "colab": {
          "base_uri": "https://localhost:8080/",
          "height": 204
        },
        "id": "Jh8CgsmXs342",
        "outputId": "6dc6ab27-9e29-4026-ae7c-f344c21c1b19"
      },
      "source": [
        "df.head()"
      ],
      "execution_count": null,
      "outputs": [
        {
          "output_type": "execute_result",
          "data": {
            "text/html": [
              "<div>\n",
              "<style scoped>\n",
              "    .dataframe tbody tr th:only-of-type {\n",
              "        vertical-align: middle;\n",
              "    }\n",
              "\n",
              "    .dataframe tbody tr th {\n",
              "        vertical-align: top;\n",
              "    }\n",
              "\n",
              "    .dataframe thead th {\n",
              "        text-align: right;\n",
              "    }\n",
              "</style>\n",
              "<table border=\"1\" class=\"dataframe\">\n",
              "  <thead>\n",
              "    <tr style=\"text-align: right;\">\n",
              "      <th></th>\n",
              "      <th>content</th>\n",
              "      <th>category</th>\n",
              "      <th>content_parsed</th>\n",
              "      <th>category_code</th>\n",
              "    </tr>\n",
              "  </thead>\n",
              "  <tbody>\n",
              "    <tr>\n",
              "      <th>0</th>\n",
              "      <td>\\nTùng Dương chọn hát 12 ca khúc nhạc rock mới...</td>\n",
              "      <td>giai-tri</td>\n",
              "      <td>tùng dương chọn hát 12 ca khúc nhạc rock mới c...</td>\n",
              "      <td>0</td>\n",
              "    </tr>\n",
              "    <tr>\n",
              "      <th>1</th>\n",
              "      <td>\\nH'Hen Niê, Đức Phúc... tham gia trò chơi đăn...</td>\n",
              "      <td>giai-tri</td>\n",
              "      <td>hhen niê đức phúc tham gia trò chơi đăng ảnh c...</td>\n",
              "      <td>0</td>\n",
              "    </tr>\n",
              "    <tr>\n",
              "      <th>2</th>\n",
              "      <td>\\nHà NộiTriển lãm “Người bay và giấc mơ siêu t...</td>\n",
              "      <td>giai-tri</td>\n",
              "      <td>hà nộitriển lãm người bay và giấc mơ siêu thực...</td>\n",
              "      <td>0</td>\n",
              "    </tr>\n",
              "    <tr>\n",
              "      <th>3</th>\n",
              "      <td>\\nDance For Youth bắt đầu vòng Online từ 0h ng...</td>\n",
              "      <td>giai-tri</td>\n",
              "      <td>dance for youth bắt đầu vòng online từ 0h ngày...</td>\n",
              "      <td>0</td>\n",
              "    </tr>\n",
              "    <tr>\n",
              "      <th>4</th>\n",
              "      <td>\\nNgọc Hân mất hai tháng may áo dài cho các th...</td>\n",
              "      <td>giai-tri</td>\n",
              "      <td>ngọc hân mất hai tháng may áo dài cho các thí ...</td>\n",
              "      <td>0</td>\n",
              "    </tr>\n",
              "  </tbody>\n",
              "</table>\n",
              "</div>"
            ],
            "text/plain": [
              "                                             content  ... category_code\n",
              "0  \\nTùng Dương chọn hát 12 ca khúc nhạc rock mới...  ...             0\n",
              "1  \\nH'Hen Niê, Đức Phúc... tham gia trò chơi đăn...  ...             0\n",
              "2  \\nHà NộiTriển lãm “Người bay và giấc mơ siêu t...  ...             0\n",
              "3  \\nDance For Youth bắt đầu vòng Online từ 0h ng...  ...             0\n",
              "4  \\nNgọc Hân mất hai tháng may áo dài cho các th...  ...             0\n",
              "\n",
              "[5 rows x 4 columns]"
            ]
          },
          "metadata": {
            "tags": []
          },
          "execution_count": 12
        }
      ]
    },
    {
      "cell_type": "markdown",
      "metadata": {
        "id": "rdevxmfatGr2"
      },
      "source": [
        "## Train - test split"
      ]
    },
    {
      "cell_type": "code",
      "metadata": {
        "id": "P7Vp2GMbtMmd"
      },
      "source": [
        "X_train, X_test, Y_train, Y_test = train_test_split(df['content_parsed'], \n",
        "                                                    df['category_code'], \n",
        "                                                    test_size=0.15, \n",
        "                                                    random_state=8)"
      ],
      "execution_count": null,
      "outputs": []
    },
    {
      "cell_type": "markdown",
      "metadata": {
        "id": "Qr2qEmb5tdKl"
      },
      "source": [
        "## Text representation"
      ]
    },
    {
      "cell_type": "code",
      "metadata": {
        "id": "66DvZsUctnw2"
      },
      "source": [
        "# Parameter election\n",
        "ngram_range = (1,2)\n",
        "min_df = 10\n",
        "max_df = 1.\n",
        "max_features = 300  "
      ],
      "execution_count": null,
      "outputs": []
    },
    {
      "cell_type": "code",
      "metadata": {
        "colab": {
          "base_uri": "https://localhost:8080/"
        },
        "id": "wOuIXLvfuQiy",
        "outputId": "2553c33c-fc7a-4b1d-dffb-b44108d70bf6"
      },
      "source": [
        "tfidf = TfidfVectorizer(encoding='utf-8',\n",
        "                        ngram_range=ngram_range,\n",
        "                        stop_words=None,\n",
        "                        lowercase=False,\n",
        "                        max_df=max_df,\n",
        "                        min_df=min_df,\n",
        "                        max_features=max_features,\n",
        "                        norm='l2',\n",
        "                        sublinear_tf=True)\n",
        "                        \n",
        "features_train = tfidf.fit_transform(X_train).toarray()\n",
        "labels_train = Y_train\n",
        "print(features_train.shape)\n",
        "\n",
        "features_test = tfidf.transform(X_test).toarray()\n",
        "labels_test = Y_test\n",
        "print(features_test.shape)"
      ],
      "execution_count": null,
      "outputs": [
        {
          "output_type": "stream",
          "text": [
            "(51, 300)\n",
            "(9, 300)\n"
          ],
          "name": "stdout"
        }
      ]
    },
    {
      "cell_type": "markdown",
      "metadata": {
        "id": "c56Ths5Svume"
      },
      "source": [
        "## Save to file"
      ]
    },
    {
      "cell_type": "code",
      "metadata": {
        "id": "Spoy7byYu42Y"
      },
      "source": [
        "import os\n",
        "\n",
        "dir = os.path.join('/content', 'Pickles')\n",
        "\n",
        "if not os.path.exists(dir):\n",
        "  os.mkdir(dir)\n"
      ],
      "execution_count": null,
      "outputs": []
    },
    {
      "cell_type": "code",
      "metadata": {
        "id": "tnFMGoYmuuDC"
      },
      "source": [
        "# X_train\n",
        "with open('Pickles/X_train.pickle', 'wb') as output:\n",
        "    pickle.dump(X_train, output)\n",
        "    \n",
        "# X_test    \n",
        "with open('Pickles/X_test.pickle', 'wb') as output:\n",
        "    pickle.dump(X_test, output)\n",
        "    \n",
        "# y_train\n",
        "with open('Pickles/Y_train.pickle', 'wb') as output:\n",
        "    pickle.dump(Y_train, output)\n",
        "    \n",
        "# y_test\n",
        "with open('Pickles/Y_test.pickle', 'wb') as output:\n",
        "    pickle.dump(Y_test, output)\n",
        "    \n",
        "# df\n",
        "with open('Pickles/df.pickle', 'wb') as output:\n",
        "    pickle.dump(df, output)\n",
        "    \n",
        "# features_train\n",
        "with open('Pickles/features_train.pickle', 'wb') as output:\n",
        "    pickle.dump(features_train, output)\n",
        "\n",
        "# labels_train\n",
        "with open('Pickles/labels_train.pickle', 'wb') as output:\n",
        "    pickle.dump(labels_train, output)\n",
        "\n",
        "# features_test\n",
        "with open('Pickles/features_test.pickle', 'wb') as output:\n",
        "    pickle.dump(features_test, output)\n",
        "\n",
        "# labels_test\n",
        "with open('Pickles/labels_test.pickle', 'wb') as output:\n",
        "    pickle.dump(labels_test, output)\n",
        "    \n",
        "# TF-IDF object\n",
        "with open('Pickles/tfidf.pickle', 'wb') as output:\n",
        "    pickle.dump(tfidf, output)"
      ],
      "execution_count": null,
      "outputs": []
    },
    {
      "cell_type": "code",
      "metadata": {
        "colab": {
          "base_uri": "https://localhost:8080/"
        },
        "id": "kRCu5QqUdM7w",
        "outputId": "b7e444b8-8a0b-4f77-d3fc-fb7e9300f06c"
      },
      "source": [
        "!zip Pickles.zip Pickles"
      ],
      "execution_count": null,
      "outputs": [
        {
          "output_type": "stream",
          "text": [
            "  adding: Pickles/ (stored 0%)\n"
          ],
          "name": "stdout"
        }
      ]
    },
    {
      "cell_type": "code",
      "metadata": {
        "colab": {
          "base_uri": "https://localhost:8080/"
        },
        "id": "-IOfEunPdTyN",
        "outputId": "617b53e3-9b5e-45f2-d0d6-130af0f8d822"
      },
      "source": [
        "!zip -r Pickles.zip Pickles"
      ],
      "execution_count": null,
      "outputs": [
        {
          "output_type": "stream",
          "text": [
            "  adding: Pickles/ (stored 0%)\n",
            "  adding: Pickles/features_test.pickle (deflated 74%)\n",
            "  adding: Pickles/labels_test.pickle (deflated 43%)\n",
            "  adding: Pickles/X_test.pickle (deflated 64%)\n",
            "  adding: Pickles/labels_train.pickle (deflated 66%)\n",
            "  adding: Pickles/Y_train.pickle (deflated 66%)\n",
            "  adding: Pickles/df.pickle (deflated 68%)\n",
            "  adding: Pickles/.ipynb_checkpoints/ (stored 0%)\n",
            "  adding: Pickles/features_train.pickle (deflated 69%)\n",
            "  adding: Pickles/Y_test.pickle (deflated 43%)\n",
            "  adding: Pickles/tfidf.pickle (deflated 60%)\n",
            "  adding: Pickles/X_train.pickle (deflated 68%)\n"
          ],
          "name": "stdout"
        }
      ]
    }
  ]
}