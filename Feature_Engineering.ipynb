{
  "nbformat": 4,
  "nbformat_minor": 0,
  "metadata": {
    "colab": {
      "name": " Feature Engineering.ipynb",
      "provenance": [],
      "toc_visible": true,
      "authorship_tag": "ABX9TyPXLGYxCYewsQGryLhMToqW",
      "include_colab_link": true
    },
    "kernelspec": {
      "name": "python3",
      "display_name": "Python 3"
    }
  },
  "cells": [
    {
      "cell_type": "markdown",
      "metadata": {
        "id": "view-in-github",
        "colab_type": "text"
      },
      "source": [
        "<a href=\"https://colab.research.google.com/github/nghiaphan177/Truyvanttdpt/blob/main/Feature_Engineering.ipynb\" target=\"_parent\"><img src=\"https://colab.research.google.com/assets/colab-badge.svg\" alt=\"Open In Colab\"/></a>"
      ]
    },
    {
      "cell_type": "code",
      "metadata": {
        "id": "naI0tQ4rkqIe"
      },
      "source": [
        "import pickle\n",
        "import pandas as pd \n",
        "import re\n",
        "from sklearn.feature_extraction.text import TfidfVectorizer\n",
        "from sklearn.model_selection import train_test_split\n",
        "import numpy as np"
      ],
      "execution_count": 1,
      "outputs": []
    },
    {
      "cell_type": "code",
      "metadata": {
        "id": "au8ayqVKn0Mm"
      },
      "source": [
        "with open('News_dataset.pickle', 'rb') as data:\n",
        "    df = pickle.load(data)"
      ],
      "execution_count": 2,
      "outputs": []
    },
    {
      "cell_type": "code",
      "metadata": {
        "id": "QW8T7PjVpeJ-",
        "colab": {
          "base_uri": "https://localhost:8080/",
          "height": 204
        },
        "outputId": "4cd696c3-eaae-4297-a7a1-b5e02aa8dc56"
      },
      "source": [
        "df.head()"
      ],
      "execution_count": 3,
      "outputs": [
        {
          "output_type": "execute_result",
          "data": {
            "text/html": [
              "<div>\n",
              "<style scoped>\n",
              "    .dataframe tbody tr th:only-of-type {\n",
              "        vertical-align: middle;\n",
              "    }\n",
              "\n",
              "    .dataframe tbody tr th {\n",
              "        vertical-align: top;\n",
              "    }\n",
              "\n",
              "    .dataframe thead th {\n",
              "        text-align: right;\n",
              "    }\n",
              "</style>\n",
              "<table border=\"1\" class=\"dataframe\">\n",
              "  <thead>\n",
              "    <tr style=\"text-align: right;\">\n",
              "      <th></th>\n",
              "      <th>Unnamed: 0</th>\n",
              "      <th>content</th>\n",
              "      <th>category</th>\n",
              "      <th>id</th>\n",
              "      <th>News_length</th>\n",
              "    </tr>\n",
              "  </thead>\n",
              "  <tbody>\n",
              "    <tr>\n",
              "      <th>0</th>\n",
              "      <td>0</td>\n",
              "      <td>\\nThuở hàn vi, các hãng mua máy bay chỉ bằng c...</td>\n",
              "      <td>kinh-doanh</td>\n",
              "      <td>1</td>\n",
              "      <td>13110</td>\n",
              "    </tr>\n",
              "    <tr>\n",
              "      <th>1</th>\n",
              "      <td>1</td>\n",
              "      <td>\\nGiá vàng trong nước sáng nay tiếp tục giảm t...</td>\n",
              "      <td>kinh-doanh</td>\n",
              "      <td>1</td>\n",
              "      <td>1164</td>\n",
              "    </tr>\n",
              "    <tr>\n",
              "      <th>2</th>\n",
              "      <td>2</td>\n",
              "      <td>\\nSo với lúc VN-Index tạo đáy cuối tháng 3, 29...</td>\n",
              "      <td>kinh-doanh</td>\n",
              "      <td>1</td>\n",
              "      <td>4345</td>\n",
              "    </tr>\n",
              "    <tr>\n",
              "      <th>3</th>\n",
              "      <td>3</td>\n",
              "      <td>\\nTrong bối cảnh Covid-19, nhiều người không p...</td>\n",
              "      <td>kinh-doanh</td>\n",
              "      <td>1</td>\n",
              "      <td>4188</td>\n",
              "    </tr>\n",
              "    <tr>\n",
              "      <th>4</th>\n",
              "      <td>4</td>\n",
              "      <td>\\nViệt Nam có thể là một trong những quốc gia ...</td>\n",
              "      <td>kinh-doanh</td>\n",
              "      <td>1</td>\n",
              "      <td>8242</td>\n",
              "    </tr>\n",
              "  </tbody>\n",
              "</table>\n",
              "</div>"
            ],
            "text/plain": [
              "   Unnamed: 0  ... News_length\n",
              "0           0  ...       13110\n",
              "1           1  ...        1164\n",
              "2           2  ...        4345\n",
              "3           3  ...        4188\n",
              "4           4  ...        8242\n",
              "\n",
              "[5 rows x 5 columns]"
            ]
          },
          "metadata": {
            "tags": []
          },
          "execution_count": 3
        }
      ]
    },
    {
      "cell_type": "code",
      "metadata": {
        "id": "tkAIi2zVqPRh",
        "colab": {
          "base_uri": "https://localhost:8080/",
          "height": 171
        },
        "outputId": "63d790f7-36ca-45d5-a07a-4d7c7eebc3f0"
      },
      "source": [
        "df.loc[4]['content']"
      ],
      "execution_count": 4,
      "outputs": [
        {
          "output_type": "execute_result",
          "data": {
            "application/vnd.google.colaboratory.intrinsic+json": {
              "type": "string"
            },
            "text/plain": [
              "'\\nViệt Nam có thể là một trong những quốc gia nhận nhiều lợi ích từ RCEP khi có các mặt hàng thế mạnh như nông, thuỷ sản đáp ứng nhu cầu hầu hết thành viên.\\nSau 8 năm đàm phán, Hiệp định Đối tác Kinh tế toàn diện khu vực (RCEP) đã được 15 nước, bao gồm: Brunei, Malaysia, Singapore, Việt Nam, Campuchia, Indonesia, Lào, Myanmar, Philippines, Thái Lan, Nhật Bản, New Zealand, Australia, Trung Quốc, Hàn Quốc, ký kết sáng 15/11.\\n\"Trong khi Covid-19 làm gián đoạn chuỗi cung ứng toàn cầu, xu hướng bảo hộ đang nổi lên, RCEP được ký kết đánh dấu mốc quan trọng trong hội nhập kinh tế của các nước tham gia đàm phán\", Bộ trưởng Công Thương Trần Tuấn Anh nhấn mạnh sau buổi lễ.\\nRCEP, với sự tham gia của 15 thành viên, sẽ tạo ra thị trường trên quy mô 2,2 tỷ người, tương đương 26.200 tỷ USD, tạo nên khu vực thuơng mại tự do lớn nhất thế giới. Nhờ vào cam kết mở cửa thị trường hàng hoá, dịch vụ, đầu tư, quy tắc xuất xứ giá trị trong khu vực địa lý RCEP cùng các biện pháp tạo thuận lợi thương mại, FTA này sẽ tạo cơ hội để phát triển các chuỗi cung ứng mới.\\nHiệp định cũng thiết lập thị trường xuất khẩu ổn định, lâu dài cho các nước ASEAN trong bối cảnh các chuỗi cung ứng bất ổn gần đây. Việc thực thi RCEP cũng tạo nên khuôn khổ pháp lý ràng buộc trong khu vực về chính sách thương mại, đầu tư, sở hữu trí tuệ, thương mại điện tử... và tạo ra sân chơi công bằng trong khu vực.\\nLà doanh nghiệp Thái Lan tại Việt Nam, lãnh đạo hệ thống bán lẻ MM Mega Market Việt Nam cho biết rất phấn khích trước những thông tin về RCEP. Bà Trần Kim Nga, Giám đốc đối ngoại công ty nhận xét: \"Việt Nam có thể là một trong những quốc gia nhận được nhiều lợi ích từ RCEP\". Nguyên nhân là những nước tham gia vào hiệp định hầu hết đều có nhu cầu nhập khẩu những mặt hàng thuộc thế mạnh của Việt Nam như nông, thuỷ sản.\\n\"Các tiêu chuẩn nhập khẩu trong hiệp định không quá khắt khe, thị hiếu tiêu dùng giữa các nước cũng khá tương đồng nên việc giao thương thuận lợi\", bà nói. Mặt khác, RCEP cũng mở cửa cho các dịch vụ logistics, thương mại điện tử, khiến hàng hoá đến tay người tiêu dùng giữa các nước dễ dàng.\\nCòn theo bà Thu Trang, Giám đốc Trung tâm WTO và Hội nhập VCCI, nhờ vào việc hài hòa quy tắc xuất xứ nội khối RCEP, hàng hóa xuất khẩu của Việt Nam có thể tăng khả năng đáp ứng điều kiện để hưởng ưu đãi thuế quan, từ đó gia tăng xuất khẩu trong khu vực này, đặc biệt là ở các thị trường như Nhật Bản, Hàn Quốc, Australia, New Zealand...\\n\"Trong các FTA đã có trước đây, không ít sản phẩm xuất khẩu Việt Nam do sử dụng nguồn nguyên liệu nhập khẩu từ nước nằm ngoài FTA mà không đáp ứng yêu cầu xuất xứ để được hưởng ưu đãi thuế quan\", bà nói. Giờ đây, Trung Quốc, Hàn Quốc và những nước vốn là nguồn cung nguyên liệu chủ yếu đều nằm trong RCEP khiến vấn đề về quy tắc xuất xứ để hàng hóa xuất khẩu được hưởng ưu đãi thuế quan RCEP trở nên dễ dàng hơn bao giờ hết.\\nNhưng bên cạnh những cơ hội, thách thức cho Việt Nam từ hiệp định RCEP không hề nhỏ.\\nThứ nhất là sức ép cạnh tranh hàng hoá. Bộ Công Thương cho biết, nhiều đối tác trong RCEP có cơ cấu sản phẩm tương tự Việt Nam nhưng năng lực cạnh tranh mạnh hơn. Hiện chất lượng, hàm lượng giá trị gia tăng của hầu hết sản phẩm Việt còn khiêm tốn.\\nSức ép này không chỉ diễn ra trên thị trường xuất khẩu mà thị trường nội địa cũng tương tự. Theo bà Thu Trang, khi thị trường nội địa cũng phải mở theo RCEP, các hàng hoá có cơ cấu sản phẩm tương tự sẽ tràn vào Việt Nam. Hàng Việt phải cạnh tranh trực diện với các mặt hàng nhập khẩu từ RCEP, đặc biệt từ Trung Quốc.\\nTrung Quốc được xem là một trong những thách thức lớn từ các nước tham gia RCEP. Với lợi thế hàng hoá phong phú, giá rẻ, nền kinh tế tỷ dân này có thể gây ra những tổn thương đến sinh kế của người dân tại các nước khác. Đây được xem là một nguyên nhân chính khiến Ấn Độ, tháng 11 năm ngoái, quyết định rút khỏi RCEP.\\nNew Delhi từng nhiều lần bày tỏ lo ngại về RCEP, thoả thuận quy định hạ thấp hàng rào thuế quan, sẽ khiến hàng hoá Trung Quốc ngập tràn thị trường Ấn. Trong khi đó, hàng hoá Ấn Độ lại không đảm bảo được sự tiếp cận tương tự tại Trung Quốc, khiến thâm hụt thương mại gia tăng. Năm 2018, thâm hụt thương mại với Trung Quốc của Ấn Độ ở mức \"khổng lồ\", gần 58 tỷ USD trong tổng kim ngạch thương mại hai chiều 95,5 tỷ USD.\\nTrong khi đó, người Việt lại khá ưa chuộng hàng ngoại. Đại diện MM Mega Market cho biết, sản phẩm đến từ Hàn Quốc, Nhật Bản, Thái Lan... rất được quan tâm do bao bì bắt mắt, chất lượng tốt, giá cả hợp lý. Những mặt hàng đóng gói như bánh kẹo, mỳ gói, sữa, ngũ cốc hay thực phẩm đông lạnh.\\n\"Nhóm tiêu dùng trẻ có yêu cầu khắt khe, sẵn sàng trải nghiệm sản phẩm mới, đang ngày một tăng, nhu cầu tiêu thụ các hàng hoá nhập ngoại cũng sẽ tăng mạnh ở Việt Nam trong thời gian tới\", bà Nga nói.\\nThứ hai, hàng hoá Việt vẫn còn phụ thuộc nhiều vào các nguồn nhập khẩu, trong khi khả năng cải thiện vị trí trong chuỗi giá trị, mức độ tham gia cung cấp thương mại dịch vụ toàn cầu còn khiêm tốn.\\nTuy nhiên, các chuyên gia cho rằng cũng không nên quá lo lắng trước những thách thức này. Với các nước ASEAN, theo bà Trang, hàng hóa nhập khẩu vào Việt Nam từ khu vực này đã được hưởng thuế suất 0% với gần như toàn bộ biểu thuế từ 2018. Mức độ phụ thuộc vào nguồn nguyên liệu từ nước ngoài, đặc biệt là từ Trung Quốc, của các nước ASEAN lại không nặng như Việt Nam. Do đó RCEP hầu như không làm thay đổi lợi thế của họ trong tận dụng ưu đãi thuế quan từ hiệp định mới so với các FTA đã có.\\n\"Nếu có nguy cơ nào đó từ ASEAN đối với thị trường nội địa Việt Nam, nguy cơ đó đã có thể xảy ra từ 3 năm nay rồi chứ không phải chờ tới RCEP\", bà nói.\\nVới nguồn Trung Quốc, RCEP càng không mang lại thêm lợi thế nào cho hàng Trung Quốc ở Việt Nam từ góc độ quy tắc xuất xứ so với hiệp định giữa ASEAN và Trung Quốc (ACFTA) đang có. Dù thừa nhận ngoài chuyện xuất xứ còn có nguy cơ gia tăng nhập khẩu do tăng mua nguyên phụ liệu từ Trung Quốc để sản xuất hàng xuất khẩu tận dụng ưu đãi thuế quan trong RCEP, bà Trang cho rằng điều này cũng không chắc sẽ dẫn tới tình trạng gây \"ngập lụt\" thị trường nội địa.\\nNguyên nhân là với không ít ngành sản xuất, nếu đã có thể lựa chọn nguồn cung khác ngoài Trung Quốc, doanh nghiệp đã lựa chọn từ lâu, để hưởng ưu đãi thuế quan theo các FTA khác.\\n\"Với mức độ tự do hoá và mở cửa thị trường mạnh từ các FTA đã có, thị trường, doanh nghiệp nội địa đã được tôi luyện, không tới nỗi không đón nổi cơn gió lớn RCEP\", bà Trang nói.\\nNhư vậy, theo bà Trang, thách thức lớn nhất của Việt Nam trong RCEP cũng không khác biệt lắm so với các FTA trước đây. Đó là làm thế nào để hiện thực hóa cơ hội, để các doanh nghiệp hiểu được các cơ hội đặc biệt từ RCEP, từ đó tận dụng chúng một cách hiệu quả. \"Thách thức không mới nhưng giải pháp lại không dễ dàng\", bà nói.\\nKhác biệt trong thách thức với các FTA khác, nếu có, đó là việc cạnh tranh trực diện trong RCEP sẽ phức tạp hơn tại thị trường xuất khẩu và nội địa. Ví dụ ở Nhật Bản, trước RCEP, Trung Quốc chưa có FTA nào, trong khi Việt Nam có tới 3. Như vậy sau RCEP, hàng Trung Quốc sẽ được hưởng ưu đãi ở Nhật Bản, do đó hàng hóa Việt Nam cũng sẽ phải chịu cạnh tranh gay gắt hơn ở thị trường nước này.\\n\"Doanh nghiệp xuất khẩu mặc dù được dự báo sẽ có lợi thế trong RCEP nhưng cũng phải sẵn sàng chuẩn bị cho tình huống cạnh tranh mới\", bà Trang nhấn mạnh.\\nTheo đánh giá của đại diện VCCI, không lo ngại có sự chồng chéo khi 7/15 thành viên gồm Brunei, Malaysia, Singapore, Việt Nam và Nhật Bản, New Zealand, Australia tham gia cả RCEP lẫn Hiệp định Đối tác toàn diện và Tiến bộ xuyên Thái Bình Dương (CPTPP).\\n\"Cứ thêm một FTA là thêm một con đường ưu tiên trong giao thương với cùng một đối tác. Những con đường này không loại trừ lẫn nhau, con đường nào phù hợp với trình độ, nhu cầu của mình thì đi theo nó\", bà Trang nói.\\nBộ trưởng Trần Tuấn Anh thì nhận định, RCEP được xây dựng phù hợp ngay cả với một số quốc gia kém phát triển của ASEAN. Vì vậy, không gian kinh tế rộng hơn, dân số lớn hơn nhưng RCEP vẫn có sự linh hoạt cho các nước tham gia.\\nDù thừa nhận chuẩn mực của CPTPP cao hơn, Bộ trưởng Tuấn Anh cho rằng, với những nước đã tham gia hiệp định như Việt Nam, điều này là lợi thế, vì không phải trả giá thêm cho những yêu cầu của RCEP. \"Ngược lại, chúng ta lại được hưởng lợi ích khi các đối tác RCEP thực hiện cam kết\", ông nhấn mạnh.'"
            ]
          },
          "metadata": {
            "tags": []
          },
          "execution_count": 4
        }
      ]
    },
    {
      "cell_type": "markdown",
      "metadata": {
        "id": "jGO7nrzjqX8v"
      },
      "source": [
        "## 1. Text cleaning and preparation"
      ]
    },
    {
      "cell_type": "markdown",
      "metadata": {
        "id": "IvzAkb_Bqesd"
      },
      "source": [
        " **1.1. Remove unnecssary character**"
      ]
    },
    {
      "cell_type": "code",
      "metadata": {
        "id": "P2iDcaJe_Un4"
      },
      "source": [
        "df['content_parsed_1'] = df['content'].replace(regex=r'[^\\d\\w ]', value='')"
      ],
      "execution_count": 5,
      "outputs": []
    },
    {
      "cell_type": "markdown",
      "metadata": {
        "id": "9ndWpnONsCS8"
      },
      "source": [
        " **1.2. downcase**"
      ]
    },
    {
      "cell_type": "code",
      "metadata": {
        "id": "O8tIVqgD_2yV"
      },
      "source": [
        "df['content_parsed_2'] = df['content_parsed_1'].str.lower()"
      ],
      "execution_count": 6,
      "outputs": []
    },
    {
      "cell_type": "code",
      "metadata": {
        "id": "Ehk1CnEc_-dc",
        "colab": {
          "base_uri": "https://localhost:8080/",
          "height": 306
        },
        "outputId": "45995b81-c283-49d1-c63d-e78b0babb080"
      },
      "source": [
        "df.head()"
      ],
      "execution_count": 7,
      "outputs": [
        {
          "output_type": "execute_result",
          "data": {
            "text/html": [
              "<div>\n",
              "<style scoped>\n",
              "    .dataframe tbody tr th:only-of-type {\n",
              "        vertical-align: middle;\n",
              "    }\n",
              "\n",
              "    .dataframe tbody tr th {\n",
              "        vertical-align: top;\n",
              "    }\n",
              "\n",
              "    .dataframe thead th {\n",
              "        text-align: right;\n",
              "    }\n",
              "</style>\n",
              "<table border=\"1\" class=\"dataframe\">\n",
              "  <thead>\n",
              "    <tr style=\"text-align: right;\">\n",
              "      <th></th>\n",
              "      <th>Unnamed: 0</th>\n",
              "      <th>content</th>\n",
              "      <th>category</th>\n",
              "      <th>id</th>\n",
              "      <th>News_length</th>\n",
              "      <th>content_parsed_1</th>\n",
              "      <th>content_parsed_2</th>\n",
              "    </tr>\n",
              "  </thead>\n",
              "  <tbody>\n",
              "    <tr>\n",
              "      <th>0</th>\n",
              "      <td>0</td>\n",
              "      <td>\\nThuở hàn vi, các hãng mua máy bay chỉ bằng c...</td>\n",
              "      <td>kinh-doanh</td>\n",
              "      <td>1</td>\n",
              "      <td>13110</td>\n",
              "      <td>Thuở hàn vi các hãng mua máy bay chỉ bằng cách...</td>\n",
              "      <td>thuở hàn vi các hãng mua máy bay chỉ bằng cách...</td>\n",
              "    </tr>\n",
              "    <tr>\n",
              "      <th>1</th>\n",
              "      <td>1</td>\n",
              "      <td>\\nGiá vàng trong nước sáng nay tiếp tục giảm t...</td>\n",
              "      <td>kinh-doanh</td>\n",
              "      <td>1</td>\n",
              "      <td>1164</td>\n",
              "      <td>Giá vàng trong nước sáng nay tiếp tục giảm the...</td>\n",
              "      <td>giá vàng trong nước sáng nay tiếp tục giảm the...</td>\n",
              "    </tr>\n",
              "    <tr>\n",
              "      <th>2</th>\n",
              "      <td>2</td>\n",
              "      <td>\\nSo với lúc VN-Index tạo đáy cuối tháng 3, 29...</td>\n",
              "      <td>kinh-doanh</td>\n",
              "      <td>1</td>\n",
              "      <td>4345</td>\n",
              "      <td>So với lúc VNIndex tạo đáy cuối tháng 3 2930 m...</td>\n",
              "      <td>so với lúc vnindex tạo đáy cuối tháng 3 2930 m...</td>\n",
              "    </tr>\n",
              "    <tr>\n",
              "      <th>3</th>\n",
              "      <td>3</td>\n",
              "      <td>\\nTrong bối cảnh Covid-19, nhiều người không p...</td>\n",
              "      <td>kinh-doanh</td>\n",
              "      <td>1</td>\n",
              "      <td>4188</td>\n",
              "      <td>Trong bối cảnh Covid19 nhiều người không phải ...</td>\n",
              "      <td>trong bối cảnh covid19 nhiều người không phải ...</td>\n",
              "    </tr>\n",
              "    <tr>\n",
              "      <th>4</th>\n",
              "      <td>4</td>\n",
              "      <td>\\nViệt Nam có thể là một trong những quốc gia ...</td>\n",
              "      <td>kinh-doanh</td>\n",
              "      <td>1</td>\n",
              "      <td>8242</td>\n",
              "      <td>Việt Nam có thể là một trong những quốc gia nh...</td>\n",
              "      <td>việt nam có thể là một trong những quốc gia nh...</td>\n",
              "    </tr>\n",
              "  </tbody>\n",
              "</table>\n",
              "</div>"
            ],
            "text/plain": [
              "   Unnamed: 0  ...                                   content_parsed_2\n",
              "0           0  ...  thuở hàn vi các hãng mua máy bay chỉ bằng cách...\n",
              "1           1  ...  giá vàng trong nước sáng nay tiếp tục giảm the...\n",
              "2           2  ...  so với lúc vnindex tạo đáy cuối tháng 3 2930 m...\n",
              "3           3  ...  trong bối cảnh covid19 nhiều người không phải ...\n",
              "4           4  ...  việt nam có thể là một trong những quốc gia nh...\n",
              "\n",
              "[5 rows x 7 columns]"
            ]
          },
          "metadata": {
            "tags": []
          },
          "execution_count": 7
        }
      ]
    },
    {
      "cell_type": "code",
      "metadata": {
        "id": "Bi6ML5rwAI62"
      },
      "source": [
        "list_columns = ['content', 'category', 'content_parsed_2']\n",
        "df = df[list_columns]\n",
        "\n",
        "df = df.rename(columns={'content_parsed_2' : 'content_parsed'})"
      ],
      "execution_count": 8,
      "outputs": []
    },
    {
      "cell_type": "code",
      "metadata": {
        "id": "vyh1gmLZAq3p",
        "colab": {
          "base_uri": "https://localhost:8080/",
          "height": 204
        },
        "outputId": "00a2ae2d-07bc-4a7d-c3ef-fb115986c5de"
      },
      "source": [
        "df.head()"
      ],
      "execution_count": 9,
      "outputs": [
        {
          "output_type": "execute_result",
          "data": {
            "text/html": [
              "<div>\n",
              "<style scoped>\n",
              "    .dataframe tbody tr th:only-of-type {\n",
              "        vertical-align: middle;\n",
              "    }\n",
              "\n",
              "    .dataframe tbody tr th {\n",
              "        vertical-align: top;\n",
              "    }\n",
              "\n",
              "    .dataframe thead th {\n",
              "        text-align: right;\n",
              "    }\n",
              "</style>\n",
              "<table border=\"1\" class=\"dataframe\">\n",
              "  <thead>\n",
              "    <tr style=\"text-align: right;\">\n",
              "      <th></th>\n",
              "      <th>content</th>\n",
              "      <th>category</th>\n",
              "      <th>content_parsed</th>\n",
              "    </tr>\n",
              "  </thead>\n",
              "  <tbody>\n",
              "    <tr>\n",
              "      <th>0</th>\n",
              "      <td>\\nThuở hàn vi, các hãng mua máy bay chỉ bằng c...</td>\n",
              "      <td>kinh-doanh</td>\n",
              "      <td>thuở hàn vi các hãng mua máy bay chỉ bằng cách...</td>\n",
              "    </tr>\n",
              "    <tr>\n",
              "      <th>1</th>\n",
              "      <td>\\nGiá vàng trong nước sáng nay tiếp tục giảm t...</td>\n",
              "      <td>kinh-doanh</td>\n",
              "      <td>giá vàng trong nước sáng nay tiếp tục giảm the...</td>\n",
              "    </tr>\n",
              "    <tr>\n",
              "      <th>2</th>\n",
              "      <td>\\nSo với lúc VN-Index tạo đáy cuối tháng 3, 29...</td>\n",
              "      <td>kinh-doanh</td>\n",
              "      <td>so với lúc vnindex tạo đáy cuối tháng 3 2930 m...</td>\n",
              "    </tr>\n",
              "    <tr>\n",
              "      <th>3</th>\n",
              "      <td>\\nTrong bối cảnh Covid-19, nhiều người không p...</td>\n",
              "      <td>kinh-doanh</td>\n",
              "      <td>trong bối cảnh covid19 nhiều người không phải ...</td>\n",
              "    </tr>\n",
              "    <tr>\n",
              "      <th>4</th>\n",
              "      <td>\\nViệt Nam có thể là một trong những quốc gia ...</td>\n",
              "      <td>kinh-doanh</td>\n",
              "      <td>việt nam có thể là một trong những quốc gia nh...</td>\n",
              "    </tr>\n",
              "  </tbody>\n",
              "</table>\n",
              "</div>"
            ],
            "text/plain": [
              "                                             content  ...                                     content_parsed\n",
              "0  \\nThuở hàn vi, các hãng mua máy bay chỉ bằng c...  ...  thuở hàn vi các hãng mua máy bay chỉ bằng cách...\n",
              "1  \\nGiá vàng trong nước sáng nay tiếp tục giảm t...  ...  giá vàng trong nước sáng nay tiếp tục giảm the...\n",
              "2  \\nSo với lúc VN-Index tạo đáy cuối tháng 3, 29...  ...  so với lúc vnindex tạo đáy cuối tháng 3 2930 m...\n",
              "3  \\nTrong bối cảnh Covid-19, nhiều người không p...  ...  trong bối cảnh covid19 nhiều người không phải ...\n",
              "4  \\nViệt Nam có thể là một trong những quốc gia ...  ...  việt nam có thể là một trong những quốc gia nh...\n",
              "\n",
              "[5 rows x 3 columns]"
            ]
          },
          "metadata": {
            "tags": []
          },
          "execution_count": 9
        }
      ]
    },
    {
      "cell_type": "markdown",
      "metadata": {
        "id": "dKy2vaShsFAb"
      },
      "source": [
        "## 2. Label encoding"
      ]
    },
    {
      "cell_type": "code",
      "metadata": {
        "id": "3n025M62sMAT"
      },
      "source": [
        "category_codes = {'giai-tri' : 1,\n",
        "                  'phap-luat' : 2,\n",
        "                  'kinh-doanh' : 3}"
      ],
      "execution_count": 10,
      "outputs": []
    },
    {
      "cell_type": "code",
      "metadata": {
        "id": "IIp_6ARmseu2"
      },
      "source": [
        "df['category_code'] = df['category']\n",
        "df = df.replace({'category_code' : category_codes})"
      ],
      "execution_count": 11,
      "outputs": []
    },
    {
      "cell_type": "code",
      "metadata": {
        "colab": {
          "base_uri": "https://localhost:8080/",
          "height": 204
        },
        "id": "Jh8CgsmXs342",
        "outputId": "02ac33fd-3aa7-46c8-d974-b927f128d9bf"
      },
      "source": [
        "df.head()"
      ],
      "execution_count": 12,
      "outputs": [
        {
          "output_type": "execute_result",
          "data": {
            "text/html": [
              "<div>\n",
              "<style scoped>\n",
              "    .dataframe tbody tr th:only-of-type {\n",
              "        vertical-align: middle;\n",
              "    }\n",
              "\n",
              "    .dataframe tbody tr th {\n",
              "        vertical-align: top;\n",
              "    }\n",
              "\n",
              "    .dataframe thead th {\n",
              "        text-align: right;\n",
              "    }\n",
              "</style>\n",
              "<table border=\"1\" class=\"dataframe\">\n",
              "  <thead>\n",
              "    <tr style=\"text-align: right;\">\n",
              "      <th></th>\n",
              "      <th>content</th>\n",
              "      <th>category</th>\n",
              "      <th>content_parsed</th>\n",
              "      <th>category_code</th>\n",
              "    </tr>\n",
              "  </thead>\n",
              "  <tbody>\n",
              "    <tr>\n",
              "      <th>0</th>\n",
              "      <td>\\nThuở hàn vi, các hãng mua máy bay chỉ bằng c...</td>\n",
              "      <td>kinh-doanh</td>\n",
              "      <td>thuở hàn vi các hãng mua máy bay chỉ bằng cách...</td>\n",
              "      <td>3</td>\n",
              "    </tr>\n",
              "    <tr>\n",
              "      <th>1</th>\n",
              "      <td>\\nGiá vàng trong nước sáng nay tiếp tục giảm t...</td>\n",
              "      <td>kinh-doanh</td>\n",
              "      <td>giá vàng trong nước sáng nay tiếp tục giảm the...</td>\n",
              "      <td>3</td>\n",
              "    </tr>\n",
              "    <tr>\n",
              "      <th>2</th>\n",
              "      <td>\\nSo với lúc VN-Index tạo đáy cuối tháng 3, 29...</td>\n",
              "      <td>kinh-doanh</td>\n",
              "      <td>so với lúc vnindex tạo đáy cuối tháng 3 2930 m...</td>\n",
              "      <td>3</td>\n",
              "    </tr>\n",
              "    <tr>\n",
              "      <th>3</th>\n",
              "      <td>\\nTrong bối cảnh Covid-19, nhiều người không p...</td>\n",
              "      <td>kinh-doanh</td>\n",
              "      <td>trong bối cảnh covid19 nhiều người không phải ...</td>\n",
              "      <td>3</td>\n",
              "    </tr>\n",
              "    <tr>\n",
              "      <th>4</th>\n",
              "      <td>\\nViệt Nam có thể là một trong những quốc gia ...</td>\n",
              "      <td>kinh-doanh</td>\n",
              "      <td>việt nam có thể là một trong những quốc gia nh...</td>\n",
              "      <td>3</td>\n",
              "    </tr>\n",
              "  </tbody>\n",
              "</table>\n",
              "</div>"
            ],
            "text/plain": [
              "                                             content  ... category_code\n",
              "0  \\nThuở hàn vi, các hãng mua máy bay chỉ bằng c...  ...             3\n",
              "1  \\nGiá vàng trong nước sáng nay tiếp tục giảm t...  ...             3\n",
              "2  \\nSo với lúc VN-Index tạo đáy cuối tháng 3, 29...  ...             3\n",
              "3  \\nTrong bối cảnh Covid-19, nhiều người không p...  ...             3\n",
              "4  \\nViệt Nam có thể là một trong những quốc gia ...  ...             3\n",
              "\n",
              "[5 rows x 4 columns]"
            ]
          },
          "metadata": {
            "tags": []
          },
          "execution_count": 12
        }
      ]
    },
    {
      "cell_type": "markdown",
      "metadata": {
        "id": "rdevxmfatGr2"
      },
      "source": [
        "## Train - test split"
      ]
    },
    {
      "cell_type": "code",
      "metadata": {
        "id": "P7Vp2GMbtMmd"
      },
      "source": [
        "X_train, X_test, Y_train, Y_test = train_test_split(df['content_parsed'], \n",
        "                                                    df['category_code'], \n",
        "                                                    test_size=0.15, \n",
        "                                                    random_state=8)"
      ],
      "execution_count": 13,
      "outputs": []
    },
    {
      "cell_type": "markdown",
      "metadata": {
        "id": "Qr2qEmb5tdKl"
      },
      "source": [
        "## Text representation"
      ]
    },
    {
      "cell_type": "code",
      "metadata": {
        "id": "66DvZsUctnw2"
      },
      "source": [
        "# Parameter election\n",
        "ngram_range = (1,2)\n",
        "min_df = 10\n",
        "max_df = 1.\n",
        "max_features = 300  "
      ],
      "execution_count": 14,
      "outputs": []
    },
    {
      "cell_type": "code",
      "metadata": {
        "colab": {
          "base_uri": "https://localhost:8080/"
        },
        "id": "wOuIXLvfuQiy",
        "outputId": "012a7a0f-2bc3-4b3d-f2f0-2632a425f5ae"
      },
      "source": [
        "tfidf = TfidfVectorizer(encoding='utf-8',\n",
        "                        ngram_range=ngram_range,\n",
        "                        stop_words=None,\n",
        "                        lowercase=False,\n",
        "                        max_df=max_df,\n",
        "                        min_df=min_df,\n",
        "                        max_features=max_features,\n",
        "                        norm='l2',\n",
        "                        sublinear_tf=True)\n",
        "                        \n",
        "features_train = tfidf.fit_transform(X_train).toarray()\n",
        "labels_train = Y_train\n",
        "print(features_train.shape)\n",
        "\n",
        "features_test = tfidf.transform(X_test).toarray()\n",
        "labels_test = Y_test\n",
        "print(features_test.shape)"
      ],
      "execution_count": 15,
      "outputs": [
        {
          "output_type": "stream",
          "text": [
            "(1275, 300)\n",
            "(225, 300)\n"
          ],
          "name": "stdout"
        }
      ]
    },
    {
      "cell_type": "markdown",
      "metadata": {
        "id": "c56Ths5Svume"
      },
      "source": [
        "## Save to file"
      ]
    },
    {
      "cell_type": "code",
      "metadata": {
        "id": "Spoy7byYu42Y"
      },
      "source": [
        "import os\n",
        "\n",
        "dir = os.path.join('/content', 'Pickles')\n",
        "\n",
        "if not os.path.exists(dir):\n",
        "  os.mkdir(dir)\n"
      ],
      "execution_count": 16,
      "outputs": []
    },
    {
      "cell_type": "code",
      "metadata": {
        "id": "tnFMGoYmuuDC"
      },
      "source": [
        "# X_train\n",
        "with open('Pickles/X_train.pickle', 'wb') as output:\n",
        "    pickle.dump(X_train, output)\n",
        "    \n",
        "# X_test    \n",
        "with open('Pickles/X_test.pickle', 'wb') as output:\n",
        "    pickle.dump(X_test, output)\n",
        "    \n",
        "# y_train\n",
        "with open('Pickles/Y_train.pickle', 'wb') as output:\n",
        "    pickle.dump(Y_train, output)\n",
        "    \n",
        "# y_test\n",
        "with open('Pickles/Y_test.pickle', 'wb') as output:\n",
        "    pickle.dump(Y_test, output)\n",
        "    \n",
        "# df\n",
        "with open('Pickles/df.pickle', 'wb') as output:\n",
        "    pickle.dump(df, output)\n",
        "    \n",
        "# features_train\n",
        "with open('Pickles/features_train.pickle', 'wb') as output:\n",
        "    pickle.dump(features_train, output)\n",
        "\n",
        "# labels_train\n",
        "with open('Pickles/labels_train.pickle', 'wb') as output:\n",
        "    pickle.dump(labels_train, output)\n",
        "\n",
        "# features_test\n",
        "with open('Pickles/features_test.pickle', 'wb') as output:\n",
        "    pickle.dump(features_test, output)\n",
        "\n",
        "# labels_test\n",
        "with open('Pickles/labels_test.pickle', 'wb') as output:\n",
        "    pickle.dump(labels_test, output)\n",
        "    \n",
        "# TF-IDF object\n",
        "with open('Pickles/tfidf.pickle', 'wb') as output:\n",
        "    pickle.dump(tfidf, output)"
      ],
      "execution_count": 17,
      "outputs": []
    },
    {
      "cell_type": "code",
      "metadata": {
        "colab": {
          "base_uri": "https://localhost:8080/"
        },
        "id": "kRCu5QqUdM7w",
        "outputId": "2dd81b8e-de98-4cc3-d806-04aa9f5f5c98"
      },
      "source": [
        "!zip Pickles.zip Pickles"
      ],
      "execution_count": 18,
      "outputs": [
        {
          "output_type": "stream",
          "text": [
            "  adding: Pickles/ (stored 0%)\n"
          ],
          "name": "stdout"
        }
      ]
    },
    {
      "cell_type": "code",
      "metadata": {
        "colab": {
          "base_uri": "https://localhost:8080/"
        },
        "id": "-IOfEunPdTyN",
        "outputId": "cd621453-74c5-4d32-fb64-e47fb3eca8d8"
      },
      "source": [
        "!zip -r Pickles.zip Pickles"
      ],
      "execution_count": 19,
      "outputs": [
        {
          "output_type": "stream",
          "text": [
            "updating: Pickles/ (stored 0%)\n",
            "  adding: Pickles/X_test.pickle (deflated 69%)\n",
            "  adding: Pickles/Y_test.pickle (deflated 79%)\n",
            "  adding: Pickles/features_test.pickle (deflated 61%)\n",
            "  adding: Pickles/df.pickle (deflated 69%)\n",
            "  adding: Pickles/X_train.pickle (deflated 69%)\n",
            "  adding: Pickles/tfidf.pickle (deflated 58%)\n",
            "  adding: Pickles/Y_train.pickle (deflated 86%)\n",
            "  adding: Pickles/features_train.pickle (deflated 62%)\n",
            "  adding: Pickles/labels_test.pickle (deflated 79%)\n",
            "  adding: Pickles/labels_train.pickle (deflated 86%)\n"
          ],
          "name": "stdout"
        }
      ]
    }
  ]
}