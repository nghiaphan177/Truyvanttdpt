{
  "nbformat": 4,
  "nbformat_minor": 0,
  "metadata": {
    "kernelspec": {
      "display_name": "Python 3",
      "language": "python",
      "name": "python3"
    },
    "language_info": {
      "codemirror_mode": {
        "name": "ipython",
        "version": 3
      },
      "file_extension": ".py",
      "mimetype": "text/x-python",
      "name": "python",
      "nbconvert_exporter": "python",
      "pygments_lexer": "ipython3",
      "version": "3.7.1"
    },
    "colab": {
      "name": " 07. MT - SVM.ipynb",
      "provenance": [],
      "toc_visible": true,
      "include_colab_link": true
    },
    "accelerator": "GPU"
  },
  "cells": [
    {
      "cell_type": "markdown",
      "metadata": {
        "id": "view-in-github",
        "colab_type": "text"
      },
      "source": [
        "<a href=\"https://colab.research.google.com/github/nghiaphan177/Truyvanttdpt/blob/main/MT_SVM.ipynb\" target=\"_parent\"><img src=\"https://colab.research.google.com/assets/colab-badge.svg\" alt=\"Open In Colab\"/></a>"
      ]
    },
    {
      "cell_type": "markdown",
      "metadata": {
        "id": "Uiiw0jthaV5m"
      },
      "source": [
        "# Support Vector Machine"
      ]
    },
    {
      "cell_type": "code",
      "metadata": {
        "id": "U62RkOAAaV5m"
      },
      "source": [
        "import pickle\n",
        "import numpy as np\n",
        "from sklearn.feature_extraction.text import TfidfVectorizer\n",
        "from sklearn import svm\n",
        "from pprint import pprint\n",
        "from sklearn.model_selection import RandomizedSearchCV\n",
        "from sklearn.model_selection import GridSearchCV\n",
        "from sklearn.metrics import classification_report, confusion_matrix, accuracy_score\n",
        "from sklearn.model_selection import ShuffleSplit\n",
        "import matplotlib.pyplot as plt\n",
        "import seaborn as sns\n",
        "import pandas as pd\n",
        "import zipfile"
      ],
      "execution_count": null,
      "outputs": []
    },
    {
      "cell_type": "markdown",
      "metadata": {
        "id": "VsGf6rdiaV5m"
      },
      "source": [
        "First, we load the data:\n",
        "\n"
      ]
    },
    {
      "cell_type": "code",
      "metadata": {
        "id": "hwlFewISbOwF"
      },
      "source": [
        "local_zip = '/content/Pickles.zip'\n",
        "zip_ref = zipfile.ZipFile(local_zip, 'r')\n",
        "zip_ref.extractall(\".\")\n",
        "zip_ref.close()"
      ],
      "execution_count": null,
      "outputs": []
    },
    {
      "cell_type": "code",
      "metadata": {
        "id": "2_ZuQYPqaV5n"
      },
      "source": [
        "# Dataframe\n",
        "path_df = \"/content/Pickles/df.pickle\"\n",
        "with open(path_df, 'rb') as data:\n",
        "    df = pickle.load(data)\n",
        "\n",
        "# features_train\n",
        "path_features_train = \"/content/Pickles/features_train.pickle\"\n",
        "with open(path_features_train, 'rb') as data:\n",
        "    features_train = pickle.load(data)\n",
        "\n",
        "# labels_train\n",
        "path_labels_train = \"/content/Pickles/labels_train.pickle\"\n",
        "with open(path_labels_train, 'rb') as data:\n",
        "    labels_train = pickle.load(data)\n",
        "\n",
        "# features_test\n",
        "path_features_test = \"/content/Pickles/features_test.pickle\"\n",
        "with open(path_features_test, 'rb') as data:\n",
        "    features_test = pickle.load(data)\n",
        "\n",
        "# labels_test\n",
        "path_labels_test = \"/content/Pickles/labels_test.pickle\"\n",
        "with open(path_labels_test, 'rb') as data:\n",
        "    labels_test = pickle.load(data)"
      ],
      "execution_count": null,
      "outputs": []
    },
    {
      "cell_type": "markdown",
      "metadata": {
        "id": "bigmopQbaV5n"
      },
      "source": [
        "Let's check the dimension of our feature vectors:"
      ]
    },
    {
      "cell_type": "code",
      "metadata": {
        "colab": {
          "base_uri": "https://localhost:8080/"
        },
        "id": "J2w9QzUYaV5n",
        "outputId": "998eb2ce-a732-4140-ca58-51af7595d49b"
      },
      "source": [
        "print(features_train.shape)\n",
        "print(features_test.shape)"
      ],
      "execution_count": null,
      "outputs": [
        {
          "output_type": "stream",
          "text": [
            "(51, 300)\n",
            "(9, 300)\n"
          ],
          "name": "stdout"
        }
      ]
    },
    {
      "cell_type": "markdown",
      "metadata": {
        "id": "zqoWl833aV5n"
      },
      "source": [
        "## Cross-Validation for Hyperparameter tuning"
      ]
    },
    {
      "cell_type": "markdown",
      "metadata": {
        "id": "Gfh4J1GFaV5n"
      },
      "source": [
        "First, we can see what hyperparameters the model has:"
      ]
    },
    {
      "cell_type": "code",
      "metadata": {
        "colab": {
          "base_uri": "https://localhost:8080/"
        },
        "id": "D7u8UQBGaV5n",
        "outputId": "1e7539a5-03d4-4d03-f5db-5f78661089a5"
      },
      "source": [
        "svc_0 =svm.SVC(random_state=8)\n",
        "\n",
        "print('Parameters currently in use:\\n')\n",
        "pprint(svc_0.get_params())"
      ],
      "execution_count": null,
      "outputs": [
        {
          "output_type": "stream",
          "text": [
            "Parameters currently in use:\n",
            "\n",
            "{'C': 1.0,\n",
            " 'break_ties': False,\n",
            " 'cache_size': 200,\n",
            " 'class_weight': None,\n",
            " 'coef0': 0.0,\n",
            " 'decision_function_shape': 'ovr',\n",
            " 'degree': 3,\n",
            " 'gamma': 'scale',\n",
            " 'kernel': 'rbf',\n",
            " 'max_iter': -1,\n",
            " 'probability': False,\n",
            " 'random_state': 8,\n",
            " 'shrinking': True,\n",
            " 'tol': 0.001,\n",
            " 'verbose': False}\n"
          ],
          "name": "stdout"
        }
      ]
    },
    {
      "cell_type": "markdown",
      "metadata": {
        "id": "EiqkcGt9aV5n"
      },
      "source": [
        "We'll tune the following ones:\n",
        "\n",
        "* `C`: Penalty parameter C of the error term.\n",
        "* `kernel`: Specifies the kernel type to be used in the algorithm.\n",
        "* `gamma`: Kernel coefficient.\n",
        "* `degree`: Degree of the polynomial kernel function.\n"
      ]
    },
    {
      "cell_type": "markdown",
      "metadata": {
        "id": "lLID9aNTaV5n"
      },
      "source": [
        "### Randomized Search Cross Validation"
      ]
    },
    {
      "cell_type": "markdown",
      "metadata": {
        "id": "2cyM3CaSaV5n"
      },
      "source": [
        "We first need to define the grid:"
      ]
    },
    {
      "cell_type": "code",
      "metadata": {
        "colab": {
          "base_uri": "https://localhost:8080/"
        },
        "id": "oIhWPgOzaV5n",
        "outputId": "eb5bf4c4-a8ba-440a-d30b-fe78ff304fd4"
      },
      "source": [
        "# C\n",
        "C = [.0001, .001, .01]\n",
        "\n",
        "# gamma\n",
        "gamma = [.0001, .001, .01, .1, 1, 10, 100]\n",
        "\n",
        "# degree\n",
        "degree = [1, 2, 3, 4, 5]\n",
        "\n",
        "# kernel\n",
        "kernel = ['linear', 'rbf', 'poly']\n",
        "\n",
        "# probability\n",
        "probability = [True]\n",
        "\n",
        "# Create the random grid\n",
        "random_grid = {'C': C,\n",
        "              'kernel': kernel,\n",
        "              'gamma': gamma,\n",
        "              'degree': degree,\n",
        "              'probability': probability\n",
        "             }\n",
        "\n",
        "pprint(random_grid)"
      ],
      "execution_count": null,
      "outputs": [
        {
          "output_type": "stream",
          "text": [
            "{'C': [0.0001, 0.001, 0.01],\n",
            " 'degree': [1, 2, 3, 4, 5],\n",
            " 'gamma': [0.0001, 0.001, 0.01, 0.1, 1, 10, 100],\n",
            " 'kernel': ['linear', 'rbf', 'poly'],\n",
            " 'probability': [True]}\n"
          ],
          "name": "stdout"
        }
      ]
    },
    {
      "cell_type": "markdown",
      "metadata": {
        "id": "vtAfLEnPaV5n"
      },
      "source": [
        "Then, we'll perform the Random Search:"
      ]
    },
    {
      "cell_type": "code",
      "metadata": {
        "colab": {
          "base_uri": "https://localhost:8080/"
        },
        "id": "s6GHvCJ-aV5n",
        "outputId": "6c4990e4-b503-4227-a30c-53b13ff269be"
      },
      "source": [
        "# First create the base model to tune\n",
        "svc = svm.SVC(random_state=8)\n",
        "\n",
        "# Definition of the random search\n",
        "random_search = RandomizedSearchCV(estimator=svc,\n",
        "                                   param_distributions=random_grid,\n",
        "                                   n_iter=50,\n",
        "                                   scoring='accuracy',\n",
        "                                   cv=3, \n",
        "                                   verbose=1, \n",
        "                                   random_state=8)\n",
        "\n",
        "# Fit the random search model\n",
        "random_search.fit(features_train, labels_train)"
      ],
      "execution_count": null,
      "outputs": [
        {
          "output_type": "stream",
          "text": [
            "Fitting 3 folds for each of 50 candidates, totalling 150 fits\n"
          ],
          "name": "stdout"
        },
        {
          "output_type": "stream",
          "text": [
            "[Parallel(n_jobs=1)]: Using backend SequentialBackend with 1 concurrent workers.\n",
            "[Parallel(n_jobs=1)]: Done 150 out of 150 | elapsed:    0.8s finished\n"
          ],
          "name": "stderr"
        },
        {
          "output_type": "execute_result",
          "data": {
            "text/plain": [
              "RandomizedSearchCV(cv=3, error_score=nan,\n",
              "                   estimator=SVC(C=1.0, break_ties=False, cache_size=200,\n",
              "                                 class_weight=None, coef0=0.0,\n",
              "                                 decision_function_shape='ovr', degree=3,\n",
              "                                 gamma='scale', kernel='rbf', max_iter=-1,\n",
              "                                 probability=False, random_state=8,\n",
              "                                 shrinking=True, tol=0.001, verbose=False),\n",
              "                   iid='deprecated', n_iter=50, n_jobs=None,\n",
              "                   param_distributions={'C': [0.0001, 0.001, 0.01],\n",
              "                                        'degree': [1, 2, 3, 4, 5],\n",
              "                                        'gamma': [0.0001, 0.001, 0.01, 0.1, 1,\n",
              "                                                  10, 100],\n",
              "                                        'kernel': ['linear', 'rbf', 'poly'],\n",
              "                                        'probability': [True]},\n",
              "                   pre_dispatch='2*n_jobs', random_state=8, refit=True,\n",
              "                   return_train_score=False, scoring='accuracy', verbose=1)"
            ]
          },
          "metadata": {
            "tags": []
          },
          "execution_count": 24
        }
      ]
    },
    {
      "cell_type": "markdown",
      "metadata": {
        "id": "tG8FyOGdaV5o"
      },
      "source": [
        "We can see the best hyperparameters resulting from the Random Search:"
      ]
    },
    {
      "cell_type": "code",
      "metadata": {
        "colab": {
          "base_uri": "https://localhost:8080/"
        },
        "id": "e-slYouuaV5o",
        "outputId": "1888e27f-0533-43bb-b26c-c8a9eaa73087"
      },
      "source": [
        "print(\"The best hyperparameters from Random Search are:\")\n",
        "print(random_search.best_params_)\n",
        "print(\"\")\n",
        "print(\"The mean accuracy of a model with these hyperparameters is:\")\n",
        "print(random_search.best_score_)"
      ],
      "execution_count": null,
      "outputs": [
        {
          "output_type": "stream",
          "text": [
            "The best hyperparameters from Random Search are:\n",
            "{'probability': True, 'kernel': 'poly', 'gamma': 10, 'degree': 4, 'C': 0.01}\n",
            "\n",
            "The mean accuracy of a model with these hyperparameters is:\n",
            "0.8627450980392156\n"
          ],
          "name": "stdout"
        }
      ]
    },
    {
      "cell_type": "markdown",
      "metadata": {
        "id": "uF6RMrHOaV5o"
      },
      "source": [
        "After that, we can do a more exhaustive search centered in those values:"
      ]
    },
    {
      "cell_type": "markdown",
      "metadata": {
        "id": "1LlPpUDDaV5o"
      },
      "source": [
        "### Grid Search Cross Validation"
      ]
    },
    {
      "cell_type": "code",
      "metadata": {
        "colab": {
          "base_uri": "https://localhost:8080/"
        },
        "id": "wmLo1yd7aV5o",
        "outputId": "e8efffb7-1c4a-4726-e1fb-8bd58570d238"
      },
      "source": [
        "# Create the parameter grid based on the results of random search \n",
        "C = [.0001, .001, .01, .1]\n",
        "degree = [3, 4, 5]\n",
        "gamma = [1, 10, 100]\n",
        "probability = [True]\n",
        "\n",
        "param_grid = [\n",
        "  {'C': C, 'kernel':['linear'], 'probability':probability},\n",
        "  {'C': C, 'kernel':['poly'], 'degree':degree, 'probability':probability},\n",
        "  {'C': C, 'kernel':['rbf'], 'gamma':gamma, 'probability':probability}\n",
        "]\n",
        "\n",
        "# Create a base model\n",
        "svc = svm.SVC(random_state=8)\n",
        "\n",
        "# Manually create the splits in CV in order to be able to fix a random_state (GridSearchCV doesn't have that argument)\n",
        "cv_sets = ShuffleSplit(n_splits = 3, test_size = .33, random_state = 8)\n",
        "\n",
        "# Instantiate the grid search model\n",
        "grid_search = GridSearchCV(estimator=svc, \n",
        "                           param_grid=param_grid,\n",
        "                           scoring='accuracy',\n",
        "                           cv=cv_sets,\n",
        "                           verbose=1)\n",
        "\n",
        "# Fit the grid search to the data\n",
        "grid_search.fit(features_train, labels_train)"
      ],
      "execution_count": null,
      "outputs": [
        {
          "output_type": "stream",
          "text": [
            "Fitting 3 folds for each of 28 candidates, totalling 84 fits\n"
          ],
          "name": "stdout"
        },
        {
          "output_type": "stream",
          "text": [
            "[Parallel(n_jobs=1)]: Using backend SequentialBackend with 1 concurrent workers.\n",
            "[Parallel(n_jobs=1)]: Done  84 out of  84 | elapsed:    0.5s finished\n"
          ],
          "name": "stderr"
        },
        {
          "output_type": "execute_result",
          "data": {
            "text/plain": [
              "GridSearchCV(cv=ShuffleSplit(n_splits=3, random_state=8, test_size=0.33, train_size=None),\n",
              "             error_score=nan,\n",
              "             estimator=SVC(C=1.0, break_ties=False, cache_size=200,\n",
              "                           class_weight=None, coef0=0.0,\n",
              "                           decision_function_shape='ovr', degree=3,\n",
              "                           gamma='scale', kernel='rbf', max_iter=-1,\n",
              "                           probability=False, random_state=8, shrinking=True,\n",
              "                           tol=0.001, verbose=False),\n",
              "             iid='deprecated'...one,\n",
              "             param_grid=[{'C': [0.0001, 0.001, 0.01, 0.1], 'kernel': ['linear'],\n",
              "                          'probability': [True]},\n",
              "                         {'C': [0.0001, 0.001, 0.01, 0.1], 'degree': [3, 4, 5],\n",
              "                          'kernel': ['poly'], 'probability': [True]},\n",
              "                         {'C': [0.0001, 0.001, 0.01, 0.1],\n",
              "                          'gamma': [1, 10, 100], 'kernel': ['rbf'],\n",
              "                          'probability': [True]}],\n",
              "             pre_dispatch='2*n_jobs', refit=True, return_train_score=False,\n",
              "             scoring='accuracy', verbose=1)"
            ]
          },
          "metadata": {
            "tags": []
          },
          "execution_count": 26
        }
      ]
    },
    {
      "cell_type": "markdown",
      "metadata": {
        "id": "62rN8XIsaV5o"
      },
      "source": [
        "The best hyperparameters turn out to be:"
      ]
    },
    {
      "cell_type": "code",
      "metadata": {
        "scrolled": true,
        "colab": {
          "base_uri": "https://localhost:8080/"
        },
        "id": "d6vuPcfFaV5o",
        "outputId": "d6f1fcdd-e825-4952-8c9d-d569e732707d"
      },
      "source": [
        "print(\"The best hyperparameters from Grid Search are:\")\n",
        "print(grid_search.best_params_)\n",
        "print(\"\")\n",
        "print(\"The mean accuracy of a model with these hyperparameters is:\")\n",
        "print(grid_search.best_score_)"
      ],
      "execution_count": null,
      "outputs": [
        {
          "output_type": "stream",
          "text": [
            "The best hyperparameters from Grid Search are:\n",
            "{'C': 0.0001, 'kernel': 'linear', 'probability': True}\n",
            "\n",
            "The mean accuracy of a model with these hyperparameters is:\n",
            "0.3333333333333333\n"
          ],
          "name": "stdout"
        }
      ]
    },
    {
      "cell_type": "markdown",
      "metadata": {
        "id": "p6alnRDFaV5o"
      },
      "source": [
        "Let's save the model in `best_svc`:"
      ]
    },
    {
      "cell_type": "code",
      "metadata": {
        "id": "j4bHxFD_aV5o"
      },
      "source": [
        "best_svc = grid_search.best_estimator_"
      ],
      "execution_count": null,
      "outputs": []
    },
    {
      "cell_type": "code",
      "metadata": {
        "colab": {
          "base_uri": "https://localhost:8080/"
        },
        "id": "40KP1UluaV5o",
        "outputId": "f93de5da-30a4-4f9c-ba20-a4ebc7c1c21a"
      },
      "source": [
        "best_svc"
      ],
      "execution_count": null,
      "outputs": [
        {
          "output_type": "execute_result",
          "data": {
            "text/plain": [
              "SVC(C=0.0001, break_ties=False, cache_size=200, class_weight=None, coef0=0.0,\n",
              "    decision_function_shape='ovr', degree=3, gamma='scale', kernel='linear',\n",
              "    max_iter=-1, probability=True, random_state=8, shrinking=True, tol=0.001,\n",
              "    verbose=False)"
            ]
          },
          "metadata": {
            "tags": []
          },
          "execution_count": 29
        }
      ]
    },
    {
      "cell_type": "markdown",
      "metadata": {
        "id": "CZXvHqU-aV5o"
      },
      "source": [
        "We now know the best SVM model. Let's fit it and see how it performs:"
      ]
    },
    {
      "cell_type": "markdown",
      "metadata": {
        "id": "XtmZWLrvaV5o"
      },
      "source": [
        "## Model fit and performance"
      ]
    },
    {
      "cell_type": "markdown",
      "metadata": {
        "id": "CKL-1b3XaV5o"
      },
      "source": [
        "Now, we can fit the model to our training data:"
      ]
    },
    {
      "cell_type": "code",
      "metadata": {
        "colab": {
          "base_uri": "https://localhost:8080/"
        },
        "id": "mVTAf7SkaV5o",
        "outputId": "a5189cab-a72a-44f0-9d79-7420e27dab91"
      },
      "source": [
        "best_svc.fit(features_train, labels_train)"
      ],
      "execution_count": null,
      "outputs": [
        {
          "output_type": "execute_result",
          "data": {
            "text/plain": [
              "SVC(C=0.0001, break_ties=False, cache_size=200, class_weight=None, coef0=0.0,\n",
              "    decision_function_shape='ovr', degree=3, gamma='scale', kernel='linear',\n",
              "    max_iter=-1, probability=True, random_state=8, shrinking=True, tol=0.001,\n",
              "    verbose=False)"
            ]
          },
          "metadata": {
            "tags": []
          },
          "execution_count": 30
        }
      ]
    },
    {
      "cell_type": "markdown",
      "metadata": {
        "id": "7E1iO4akaV5o"
      },
      "source": [
        "And get the predictions:"
      ]
    },
    {
      "cell_type": "code",
      "metadata": {
        "id": "tB8kEcxGaV5o"
      },
      "source": [
        "svc_pred = best_svc.predict(features_test)"
      ],
      "execution_count": null,
      "outputs": []
    },
    {
      "cell_type": "markdown",
      "metadata": {
        "id": "87L-zRtxaV5o"
      },
      "source": [
        "The conditional class probabilities can be obtained by typing:\n",
        "\n",
        "`svc_pred = best_svc.predict_proba(features_test)`"
      ]
    },
    {
      "cell_type": "markdown",
      "metadata": {
        "id": "V1nXbCiZaV5o"
      },
      "source": [
        "For performance analysis, we will use the confusion matrix, the classification report and the accuracy on both training and test data:"
      ]
    },
    {
      "cell_type": "markdown",
      "metadata": {
        "id": "Bl5uty4CaV5o"
      },
      "source": [
        "#### Training accuracy"
      ]
    },
    {
      "cell_type": "code",
      "metadata": {
        "colab": {
          "base_uri": "https://localhost:8080/"
        },
        "id": "7OkzjkG6aV5o",
        "outputId": "296f431f-b785-47ec-c7b0-682f7f0d4a0b"
      },
      "source": [
        "# Training accuracy\n",
        "print(\"The training accuracy is: \")\n",
        "print(accuracy_score(labels_train, best_svc.predict(features_train)))"
      ],
      "execution_count": null,
      "outputs": [
        {
          "output_type": "stream",
          "text": [
            "The training accuracy is: \n",
            "0.35294117647058826\n"
          ],
          "name": "stdout"
        }
      ]
    },
    {
      "cell_type": "markdown",
      "metadata": {
        "id": "Jofh8vHSaV5o"
      },
      "source": [
        "#### Test accuracy"
      ]
    },
    {
      "cell_type": "code",
      "metadata": {
        "colab": {
          "base_uri": "https://localhost:8080/"
        },
        "id": "EJv8j6S_aV5o",
        "outputId": "7b4b3ff2-d5ab-4f1a-a203-948fc3f253ab"
      },
      "source": [
        "# Test accuracy\n",
        "print(\"The test accuracy is: \")\n",
        "print(accuracy_score(labels_test, svc_pred))"
      ],
      "execution_count": null,
      "outputs": [
        {
          "output_type": "stream",
          "text": [
            "The test accuracy is: \n",
            "0.2222222222222222\n"
          ],
          "name": "stdout"
        }
      ]
    },
    {
      "cell_type": "markdown",
      "metadata": {
        "id": "JgKXQR3QaV5o"
      },
      "source": [
        "#### Classification report"
      ]
    },
    {
      "cell_type": "code",
      "metadata": {
        "colab": {
          "base_uri": "https://localhost:8080/"
        },
        "id": "Z72WJKbMaV5o",
        "outputId": "757c8220-6e79-4e79-fcba-ca54305d0ba3"
      },
      "source": [
        "# Classification report\n",
        "print(\"Classification report\")\n",
        "print(classification_report(labels_test,svc_pred))"
      ],
      "execution_count": null,
      "outputs": [
        {
          "output_type": "stream",
          "text": [
            "Classification report\n",
            "              precision    recall  f1-score   support\n",
            "\n",
            "           0       0.22      1.00      0.36         2\n",
            "           1       0.00      0.00      0.00         3\n",
            "           2       0.00      0.00      0.00         4\n",
            "\n",
            "    accuracy                           0.22         9\n",
            "   macro avg       0.07      0.33      0.12         9\n",
            "weighted avg       0.05      0.22      0.08         9\n",
            "\n"
          ],
          "name": "stdout"
        },
        {
          "output_type": "stream",
          "text": [
            "/usr/local/lib/python3.6/dist-packages/sklearn/metrics/_classification.py:1272: UndefinedMetricWarning: Precision and F-score are ill-defined and being set to 0.0 in labels with no predicted samples. Use `zero_division` parameter to control this behavior.\n",
            "  _warn_prf(average, modifier, msg_start, len(result))\n"
          ],
          "name": "stderr"
        }
      ]
    },
    {
      "cell_type": "markdown",
      "metadata": {
        "id": "u_mOkw2-aV5o"
      },
      "source": [
        "#### Confusion matrix"
      ]
    },
    {
      "cell_type": "code",
      "metadata": {
        "colab": {
          "base_uri": "https://localhost:8080/",
          "height": 404
        },
        "id": "lmYlVDxKaV5o",
        "outputId": "f0ce3fad-fb4b-4358-e0c6-0b18e8212608"
      },
      "source": [
        "aux_df = df[['category', 'category_code']].drop_duplicates().sort_values('category_code')\n",
        "conf_matrix = confusion_matrix(labels_test, svc_pred)\n",
        "plt.figure(figsize=(12.8,6))\n",
        "sns.heatmap(conf_matrix, \n",
        "            annot=True,\n",
        "            xticklabels=aux_df['category'].values, \n",
        "            yticklabels=aux_df['category'].values,\n",
        "            cmap=\"Blues\")\n",
        "plt.ylabel('Predicted')\n",
        "plt.xlabel('Actual')\n",
        "plt.title('Confusion matrix')\n",
        "plt.show()"
      ],
      "execution_count": null,
      "outputs": [
        {
          "output_type": "display_data",
          "data": {
            "image/png": "[encoded data removed]",
            "text/plain": [
              "<Figure size 921.6x432 with 2 Axes>"
            ]
          },
          "metadata": {
            "tags": [],
            "needs_background": "light"
          }
        }
      ]
    },
    {
      "cell_type": "markdown",
      "metadata": {
        "id": "qRQB7GAcaV5o"
      },
      "source": [
        "At this point, we could get the average time the model takes to get predictions. We want the algorithm to be fast since we are creating an app which will gather data from the internet and get the predicted categories. However, since the difference when predicting 10-20 observations will be very little, we won't take this into account.\n",
        "\n",
        "However, the code below could do this task:\n",
        "\n",
        "```python\n",
        "features_time = features_train\n",
        "elapsed_list = []\n",
        "for i in range(0,10):\n",
        "    \n",
        "    start = time.time()\n",
        "    predictions = best_lrc.predict(features_time)\n",
        "    end = time.time()\n",
        "    elapsed = end - start\n",
        "    elapsed_list.append(elapsed)\n",
        "\n",
        "mean_time_elapsed = np.mean(elapsed_list)\n",
        "```"
      ]
    },
    {
      "cell_type": "markdown",
      "metadata": {
        "id": "04ZW5nmoaV5o"
      },
      "source": [
        "Let's see if the hyperparameter tuning process has returned a better model:"
      ]
    },
    {
      "cell_type": "code",
      "metadata": {
        "colab": {
          "base_uri": "https://localhost:8080/"
        },
        "id": "itz6CqeOaV5p",
        "outputId": "2f4d4e17-3aba-4b74-a3f3-354e68d31b4e"
      },
      "source": [
        "base_model = svm.SVC(random_state = 8)\n",
        "base_model.fit(features_train, labels_train)\n",
        "accuracy_score(labels_test, base_model.predict(features_test))"
      ],
      "execution_count": null,
      "outputs": [
        {
          "output_type": "execute_result",
          "data": {
            "text/plain": [
              "0.8888888888888888"
            ]
          },
          "metadata": {
            "tags": []
          },
          "execution_count": 38
        }
      ]
    },
    {
      "cell_type": "code",
      "metadata": {
        "scrolled": true,
        "colab": {
          "base_uri": "https://localhost:8080/"
        },
        "id": "u0-VYxQnaV5p",
        "outputId": "72626313-5341-43bb-c98c-05062760149c"
      },
      "source": [
        "best_svc.fit(features_train, labels_train)\n",
        "accuracy_score(labels_test, best_svc.predict(features_test))"
      ],
      "execution_count": null,
      "outputs": [
        {
          "output_type": "execute_result",
          "data": {
            "text/plain": [
              "0.2222222222222222"
            ]
          },
          "metadata": {
            "tags": []
          },
          "execution_count": 39
        }
      ]
    },
    {
      "cell_type": "markdown",
      "metadata": {
        "id": "dmdb-z-waV5p"
      },
      "source": [
        "We'll create a dataset with a model summary to compare models:"
      ]
    },
    {
      "cell_type": "code",
      "metadata": {
        "id": "M3S_-wtTaV5p"
      },
      "source": [
        "d = {\n",
        "     'Model': 'SVM',\n",
        "     'Training Set Accuracy': accuracy_score(labels_train, best_svc.predict(features_train)),\n",
        "     'Test Set Accuracy': accuracy_score(labels_test, svc_pred)\n",
        "}\n",
        "\n",
        "df_models_svc = pd.DataFrame(d, index=[0])"
      ],
      "execution_count": null,
      "outputs": []
    },
    {
      "cell_type": "code",
      "metadata": {
        "colab": {
          "base_uri": "https://localhost:8080/",
          "height": 77
        },
        "id": "7h5O-En-aV5p",
        "outputId": "fabeb9cc-ff04-41a8-e510-75e005de48a3"
      },
      "source": [
        "df_models_svc"
      ],
      "execution_count": null,
      "outputs": [
        {
          "output_type": "execute_result",
          "data": {
            "text/html": [
              "<div>\n",
              "<style scoped>\n",
              "    .dataframe tbody tr th:only-of-type {\n",
              "        vertical-align: middle;\n",
              "    }\n",
              "\n",
              "    .dataframe tbody tr th {\n",
              "        vertical-align: top;\n",
              "    }\n",
              "\n",
              "    .dataframe thead th {\n",
              "        text-align: right;\n",
              "    }\n",
              "</style>\n",
              "<table border=\"1\" class=\"dataframe\">\n",
              "  <thead>\n",
              "    <tr style=\"text-align: right;\">\n",
              "      <th></th>\n",
              "      <th>Model</th>\n",
              "      <th>Training Set Accuracy</th>\n",
              "      <th>Test Set Accuracy</th>\n",
              "    </tr>\n",
              "  </thead>\n",
              "  <tbody>\n",
              "    <tr>\n",
              "      <th>0</th>\n",
              "      <td>SVM</td>\n",
              "      <td>0.352941</td>\n",
              "      <td>0.222222</td>\n",
              "    </tr>\n",
              "  </tbody>\n",
              "</table>\n",
              "</div>"
            ],
            "text/plain": [
              "  Model  Training Set Accuracy  Test Set Accuracy\n",
              "0   SVM               0.352941           0.222222"
            ]
          },
          "metadata": {
            "tags": []
          },
          "execution_count": 41
        }
      ]
    },
    {
      "cell_type": "markdown",
      "metadata": {
        "id": "qtgYK-KjaV5p"
      },
      "source": [
        "Let's save the model and this dataset:"
      ]
    },
    {
      "cell_type": "code",
      "metadata": {
        "id": "9sEwzAkpaV5p"
      },
      "source": [
        "with open('/content/Modelss/best_svc.pickle', 'wb') as output:\n",
        "    pickle.dump(best_svc, output)\n",
        "    \n",
        "with open('/content/Modelss/df_models_svc.pickle', 'wb') as output:\n",
        "    pickle.dump(df_models_svc, output)"
      ],
      "execution_count": null,
      "outputs": []
    }
  ]
}