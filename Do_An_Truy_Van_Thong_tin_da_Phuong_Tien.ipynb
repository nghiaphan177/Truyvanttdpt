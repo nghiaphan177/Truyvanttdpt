{
  "nbformat": 4,
  "nbformat_minor": 0,
  "metadata": {
    "colab": {
      "name": "Do_An_Truy_Van_Thong_tin_da_Phuong_Tien.ipynb",
      "provenance": [],
      "authorship_tag": "ABX9TyMs16aNN+7IOPVubFMPgrZV",
      "include_colab_link": true
    },
    "kernelspec": {
      "name": "python3",
      "display_name": "Python 3"
    }
  },
  "cells": [
    {
      "cell_type": "markdown",
      "metadata": {
        "id": "view-in-github",
        "colab_type": "text"
      },
      "source": [
        "<a href=\"https://colab.research.google.com/github/nghiaphan177/Truyvanttdpt/blob/main/Do_An_Truy_Van_Thong_tin_da_Phuong_Tien.ipynb\" target=\"_parent\"><img src=\"https://colab.research.google.com/assets/colab-badge.svg\" alt=\"Open In Colab\"/></a>"
      ]
    },
    {
      "cell_type": "code",
      "metadata": {
        "id": "gr6p4iSMUMsS"
      },
      "source": [
        "import pandas as pd\r\n",
        "from sklearn.model_selection import train_test_split\r\n",
        "from sklearn.feature_extraction.text import TfidfVectorizer\r\n",
        "from sklearn.metrics import confusion_matrix\r\n",
        "from sklearn.svm import LinearSVC\r\n",
        "from sklearn.model_selection import cross_val_score\r\n",
        "from sklearn.naive_bayes import GaussianNB\r\n",
        "from sklearn.linear_model import LogisticRegression\r\n",
        "from sklearn.ensemble import RandomForestClassifier\r\n",
        "from sklearn import svm"
      ],
      "execution_count": 189,
      "outputs": []
    },
    {
      "cell_type": "markdown",
      "metadata": {
        "id": "mp-LVimj-Zg2"
      },
      "source": [
        "## Tiền xử lý dữ liệu văn bản"
      ]
    },
    {
      "cell_type": "markdown",
      "metadata": {
        "id": "ade-VLD1-gwv"
      },
      "source": [
        "1. **Chuẩn hóa Unicode tiếng việt**\r\n",
        "\r\n"
      ]
    },
    {
      "cell_type": "code",
      "metadata": {
        "colab": {
          "base_uri": "https://localhost:8080/"
        },
        "id": "lNsbXKm69267",
        "outputId": "cdf77934-b0b0-4824-f632-b277f9092f2d"
      },
      "source": [
        "#unicode vs unocode tổ hợp\r\n",
        "'phú' == 'phú'"
      ],
      "execution_count": 190,
      "outputs": [
        {
          "output_type": "execute_result",
          "data": {
            "text/plain": [
              "False"
            ]
          },
          "metadata": {
            "tags": []
          },
          "execution_count": 190
        }
      ]
    },
    {
      "cell_type": "code",
      "metadata": {
        "id": "p81gQRaQHMNE"
      },
      "source": [
        "import regex as re\r\n",
        "def loaddicchar():\r\n",
        "    dic = {}\r\n",
        "    char1252 = 'à|á|ả|ã|ạ|ầ|ấ|ẩ|ẫ|ậ|ằ|ắ|ẳ|ẵ|ặ|è|é|ẻ|ẽ|ẹ|ề|ế|ể|ễ|ệ|ì|í|ỉ|ĩ|ị|ò|ó|ỏ|õ|ọ|ồ|ố|ổ|ỗ|ộ|ờ|ớ|ở|ỡ|ợ|ù|ú|ủ|ũ|ụ|ừ|ứ|ử|ữ|ự|ỳ|ý|ỷ|ỹ|ỵ|À|Á|Ả|Ã|Ạ|Ầ|Ấ|Ẩ|Ẫ|Ậ|Ằ|Ắ|Ẳ|Ẵ|Ặ|È|É|Ẻ|Ẽ|Ẹ|Ề|Ế|Ể|Ễ|Ệ|Ì|Í|Ỉ|Ĩ|Ị|Ò|Ó|Ỏ|Õ|Ọ|Ồ|Ố|Ổ|Ỗ|Ộ|Ờ|Ớ|Ở|Ỡ|Ợ|Ù|Ú|Ủ|Ũ|Ụ|Ừ|Ứ|Ử|Ữ|Ự|Ỳ|Ý|Ỷ|Ỹ|Ỵ'.split(\r\n",
        "        '|')\r\n",
        "    charutf8 = \"à|á|ả|ã|ạ|ầ|ấ|ẩ|ẫ|ậ|ằ|ắ|ẳ|ẵ|ặ|è|é|ẻ|ẽ|ẹ|ề|ế|ể|ễ|ệ|ì|í|ỉ|ĩ|ị|ò|ó|ỏ|õ|ọ|ồ|ố|ổ|ỗ|ộ|ờ|ớ|ở|ỡ|ợ|ù|ú|ủ|ũ|ụ|ừ|ứ|ử|ữ|ự|ỳ|ý|ỷ|ỹ|ỵ|À|Á|Ả|Ã|Ạ|Ầ|Ấ|Ẩ|Ẫ|Ậ|Ằ|Ắ|Ẳ|Ẵ|Ặ|È|É|Ẻ|Ẽ|Ẹ|Ề|Ế|Ể|Ễ|Ệ|Ì|Í|Ỉ|Ĩ|Ị|Ò|Ó|Ỏ|Õ|Ọ|Ồ|Ố|Ổ|Ỗ|Ộ|Ờ|Ớ|Ở|Ỡ|Ợ|Ù|Ú|Ủ|Ũ|Ụ|Ừ|Ứ|Ử|Ữ|Ự|Ỳ|Ý|Ỷ|Ỹ|Ỵ\".split(\r\n",
        "        '|')\r\n",
        "    for i in range(len(char1252)):\r\n",
        "        dic[char1252[i]] = charutf8[i]\r\n",
        "    return dic\r\n",
        " \r\n",
        " \r\n",
        "dicchar = loaddicchar()\r\n",
        " \r\n",
        "# Đưa toàn bộ dữ liệu qua hàm này để chuẩn hóa lại\r\n",
        "def convert_unicode(txt):\r\n",
        "    return re.sub(\r\n",
        "        r'à|á|ả|ã|ạ|ầ|ấ|ẩ|ẫ|ậ|ằ|ắ|ẳ|ẵ|ặ|è|é|ẻ|ẽ|ẹ|ề|ế|ể|ễ|ệ|ì|í|ỉ|ĩ|ị|ò|ó|ỏ|õ|ọ|ồ|ố|ổ|ỗ|ộ|ờ|ớ|ở|ỡ|ợ|ù|ú|ủ|ũ|ụ|ừ|ứ|ử|ữ|ự|ỳ|ý|ỷ|ỹ|ỵ|À|Á|Ả|Ã|Ạ|Ầ|Ấ|Ẩ|Ẫ|Ậ|Ằ|Ắ|Ẳ|Ẵ|Ặ|È|É|Ẻ|Ẽ|Ẹ|Ề|Ế|Ể|Ễ|Ệ|Ì|Í|Ỉ|Ĩ|Ị|Ò|Ó|Ỏ|Õ|Ọ|Ồ|Ố|Ổ|Ỗ|Ộ|Ờ|Ớ|Ở|Ỡ|Ợ|Ù|Ú|Ủ|Ũ|Ụ|Ừ|Ứ|Ử|Ữ|Ự|Ỳ|Ý|Ỷ|Ỹ|Ỵ',\r\n",
        "        lambda x: dicchar[x.group()], txt)"
      ],
      "execution_count": 191,
      "outputs": []
    },
    {
      "cell_type": "markdown",
      "metadata": {
        "id": "FIsn598fH14L"
      },
      "source": [
        "2. **Chuẩn hóa kiểu gõ dấu**"
      ]
    },
    {
      "cell_type": "code",
      "metadata": {
        "colab": {
          "base_uri": "https://localhost:8080/"
        },
        "id": "YLdx87e3MT5s",
        "outputId": "3a5d1b73-aaaa-4170-95f6-293fb837ad08"
      },
      "source": [
        "'hòa' == 'hoà'"
      ],
      "execution_count": 4,
      "outputs": [
        {
          "output_type": "execute_result",
          "data": {
            "text/plain": [
              "False"
            ]
          },
          "metadata": {
            "tags": []
          },
          "execution_count": 4
        }
      ]
    },
    {
      "cell_type": "code",
      "metadata": {
        "colab": {
          "base_uri": "https://localhost:8080/"
        },
        "id": "Z5IqID4RHxOy",
        "outputId": "43029973-0595-49e1-8222-473175ba9e5e"
      },
      "source": [
        "\r\n",
        "import regex as re\r\n",
        "\r\n",
        "\r\n",
        "\r\n",
        "bang_nguyen_am = [['a', 'à', 'á', 'ả', 'ã', 'ạ', 'a'],\r\n",
        "                  ['ă', 'ằ', 'ắ', 'ẳ', 'ẵ', 'ặ', 'aw'],\r\n",
        "                  ['â', 'ầ', 'ấ', 'ẩ', 'ẫ', 'ậ', 'aa'],\r\n",
        "                  ['e', 'è', 'é', 'ẻ', 'ẽ', 'ẹ', 'e'],\r\n",
        "                  ['ê', 'ề', 'ế', 'ể', 'ễ', 'ệ', 'ee'],\r\n",
        "                  ['i', 'ì', 'í', 'ỉ', 'ĩ', 'ị', 'i'],\r\n",
        "                  ['o', 'ò', 'ó', 'ỏ', 'õ', 'ọ', 'o'],\r\n",
        "                  ['ô', 'ồ', 'ố', 'ổ', 'ỗ', 'ộ', 'oo'],\r\n",
        "                  ['ơ', 'ờ', 'ớ', 'ở', 'ỡ', 'ợ', 'ow'],\r\n",
        "                  ['u', 'ù', 'ú', 'ủ', 'ũ', 'ụ', 'u'],\r\n",
        "                  ['ư', 'ừ', 'ứ', 'ử', 'ữ', 'ự', 'uw'],\r\n",
        "                  ['y', 'ỳ', 'ý', 'ỷ', 'ỹ', 'ỵ', 'y']]\r\n",
        "bang_ky_tu_dau = ['', 'f', 's', 'r', 'x', 'j']\r\n",
        "\r\n",
        "nguyen_am_to_ids = {}\r\n",
        "\r\n",
        "for i in range(len(bang_nguyen_am)):\r\n",
        "    for j in range(len(bang_nguyen_am[i]) - 1):\r\n",
        "        nguyen_am_to_ids[bang_nguyen_am[i][j]] = (i, j)\r\n",
        "\r\n",
        "\r\n",
        "\r\n",
        "\r\n",
        "\"\"\"\r\n",
        "    Start section: Chuyển câu văn về cách gõ dấu kiểu cũ: dùng òa úy thay oà uý\r\n",
        "    Xem tại đây: https://vi.wikipedia.org/wiki/Quy_t%E1%BA%AFc_%C4%91%E1%BA%B7t_d%E1%BA%A5u_thanh_trong_ch%E1%BB%AF_qu%E1%BB%91c_ng%E1%BB%AF\r\n",
        "\"\"\"\r\n",
        "\r\n",
        "\r\n",
        "def chuan_hoa_dau_tu_tieng_viet(word):\r\n",
        "    if not is_valid_vietnam_word(word):\r\n",
        "        return word\r\n",
        "\r\n",
        "    chars = list(word)\r\n",
        "    dau_cau = 0\r\n",
        "    nguyen_am_index = []\r\n",
        "    qu_or_gi = False\r\n",
        "    for index, char in enumerate(chars):\r\n",
        "        x, y = nguyen_am_to_ids.get(char, (-1, -1))\r\n",
        "        if x == -1:\r\n",
        "            continue\r\n",
        "        elif x == 9:  # check qu\r\n",
        "            if index != 0 and chars[index - 1] == 'q':\r\n",
        "                chars[index] = 'u'\r\n",
        "                qu_or_gi = True\r\n",
        "        elif x == 5:  # check gi\r\n",
        "            if index != 0 and chars[index - 1] == 'g':\r\n",
        "                chars[index] = 'i'\r\n",
        "                qu_or_gi = True\r\n",
        "        if y != 0:\r\n",
        "            dau_cau = y\r\n",
        "            chars[index] = bang_nguyen_am[x][0]\r\n",
        "        if not qu_or_gi or index != 1:\r\n",
        "            nguyen_am_index.append(index)\r\n",
        "    if len(nguyen_am_index) < 2:\r\n",
        "        if qu_or_gi:\r\n",
        "            if len(chars) == 2:\r\n",
        "                x, y = nguyen_am_to_ids.get(chars[1])\r\n",
        "                chars[1] = bang_nguyen_am[x][dau_cau]\r\n",
        "            else:\r\n",
        "                x, y = nguyen_am_to_ids.get(chars[2], (-1, -1))\r\n",
        "                if x != -1:\r\n",
        "                    chars[2] = bang_nguyen_am[x][dau_cau]\r\n",
        "                else:\r\n",
        "                    chars[1] = bang_nguyen_am[5][dau_cau] if chars[1] == 'i' else bang_nguyen_am[9][dau_cau]\r\n",
        "            return ''.join(chars)\r\n",
        "        return word\r\n",
        "\r\n",
        "    for index in nguyen_am_index:\r\n",
        "        x, y = nguyen_am_to_ids[chars[index]]\r\n",
        "        if x == 4 or x == 8:  # ê, ơ\r\n",
        "            chars[index] = bang_nguyen_am[x][dau_cau]\r\n",
        "            # for index2 in nguyen_am_index:\r\n",
        "            #     if index2 != index:\r\n",
        "            #         x, y = nguyen_am_to_ids[chars[index]]\r\n",
        "            #         chars[index2] = bang_nguyen_am[x][0]\r\n",
        "            return ''.join(chars)\r\n",
        "\r\n",
        "    if len(nguyen_am_index) == 2:\r\n",
        "        if nguyen_am_index[-1] == len(chars) - 1:\r\n",
        "            x, y = nguyen_am_to_ids[chars[nguyen_am_index[0]]]\r\n",
        "            chars[nguyen_am_index[0]] = bang_nguyen_am[x][dau_cau]\r\n",
        "            # x, y = nguyen_am_to_ids[chars[nguyen_am_index[1]]]\r\n",
        "            # chars[nguyen_am_index[1]] = bang_nguyen_am[x][0]\r\n",
        "        else:\r\n",
        "            # x, y = nguyen_am_to_ids[chars[nguyen_am_index[0]]]\r\n",
        "            # chars[nguyen_am_index[0]] = bang_nguyen_am[x][0]\r\n",
        "            x, y = nguyen_am_to_ids[chars[nguyen_am_index[1]]]\r\n",
        "            chars[nguyen_am_index[1]] = bang_nguyen_am[x][dau_cau]\r\n",
        "    else:\r\n",
        "        # x, y = nguyen_am_to_ids[chars[nguyen_am_index[0]]]\r\n",
        "        # chars[nguyen_am_index[0]] = bang_nguyen_am[x][0]\r\n",
        "        x, y = nguyen_am_to_ids[chars[nguyen_am_index[1]]]\r\n",
        "        chars[nguyen_am_index[1]] = bang_nguyen_am[x][dau_cau]\r\n",
        "        # x, y = nguyen_am_to_ids[chars[nguyen_am_index[2]]]\r\n",
        "        # chars[nguyen_am_index[2]] = bang_nguyen_am[x][0]\r\n",
        "    return ''.join(chars)\r\n",
        "\r\n",
        "\r\n",
        "def is_valid_vietnam_word(word):\r\n",
        "    chars = list(word)\r\n",
        "    nguyen_am_index = -1\r\n",
        "    for index, char in enumerate(chars):\r\n",
        "        x, y = nguyen_am_to_ids.get(char, (-1, -1))\r\n",
        "        if x != -1:\r\n",
        "            if nguyen_am_index == -1:\r\n",
        "                nguyen_am_index = index\r\n",
        "            else:\r\n",
        "                if index - nguyen_am_index != 1:\r\n",
        "                    return False\r\n",
        "                nguyen_am_index = index\r\n",
        "    return True\r\n",
        "\r\n",
        "\r\n",
        "def chuan_hoa_dau_cau_tieng_viet(sentence):\r\n",
        "    \"\"\"\r\n",
        "        Chuyển câu tiếng việt về chuẩn gõ dấu kiểu cũ.\r\n",
        "        :param sentence:\r\n",
        "        :return:\r\n",
        "        \"\"\"\r\n",
        "    sentence = sentence.lower()\r\n",
        "    words = sentence.split()\r\n",
        "    for index, word in enumerate(words):\r\n",
        "        cw = re.sub(r'(^\\p{P}*)([p{L}.]*\\p{L}+)(\\p{P}*$)', r'\\1/\\2/\\3', word).split('/')\r\n",
        "        # print(cw)\r\n",
        "        if len(cw) == 3:\r\n",
        "            cw[1] = chuan_hoa_dau_tu_tieng_viet(cw[1])\r\n",
        "        words[index] = ''.join(cw)\r\n",
        "    return ' '.join(words)\r\n",
        "\r\n",
        "\r\n",
        "\"\"\"\r\n",
        "    End section: Chuyển câu văn về cách gõ dấu kiểu cũ: dùng òa úy thay oà uý\r\n",
        "    Xem tại đây: https://vi.wikipedia.org/wiki/Quy_tắc_đặt_dấu_thanh_trong_chữ_quốc_ngữ\r\n",
        "\"\"\"\r\n",
        "if __name__ == '__main__':\r\n",
        "    print(chuan_hoa_dau_cau_tieng_viet('anh hoà, đang làm.. gì'))\r\n"
      ],
      "execution_count": 5,
      "outputs": [
        {
          "output_type": "stream",
          "text": [
            "anh hòa, đang làm.. gì\n"
          ],
          "name": "stdout"
        }
      ]
    },
    {
      "cell_type": "markdown",
      "metadata": {
        "id": "GRtZXEE8McDS"
      },
      "source": [
        "3. **Tách từ tiếng việt**"
      ]
    },
    {
      "cell_type": "code",
      "metadata": {
        "id": "2xSH_4e1Mwod",
        "outputId": "5485e3d7-2b9e-4e43-c9f6-4cd5e088d684",
        "colab": {
          "base_uri": "https://localhost:8080/"
        }
      },
      "source": [
        "pip install underthesea"
      ],
      "execution_count": 192,
      "outputs": [
        {
          "output_type": "stream",
          "text": [
            "Requirement already satisfied: underthesea in /usr/local/lib/python3.6/dist-packages (1.3.0)\n",
            "Requirement already satisfied: torch<=1.5.1,>=1.1.0 in /usr/local/lib/python3.6/dist-packages (from underthesea) (1.5.1)\n",
            "Requirement already satisfied: Click>=6.0 in /usr/local/lib/python3.6/dist-packages (from underthesea) (7.1.2)\n",
            "Requirement already satisfied: python-crfsuite>=0.9.6 in /usr/local/lib/python3.6/dist-packages (from underthesea) (0.9.7)\n",
            "Requirement already satisfied: nltk in /usr/local/lib/python3.6/dist-packages (from underthesea) (3.2.5)\n",
            "Requirement already satisfied: joblib in /usr/local/lib/python3.6/dist-packages (from underthesea) (1.0.0)\n",
            "Requirement already satisfied: PyYAML in /usr/local/lib/python3.6/dist-packages (from underthesea) (3.13)\n",
            "Requirement already satisfied: unidecode in /usr/local/lib/python3.6/dist-packages (from underthesea) (1.1.1)\n",
            "Requirement already satisfied: seqeval in /usr/local/lib/python3.6/dist-packages (from underthesea) (1.2.2)\n",
            "Requirement already satisfied: scikit-learn<0.22,>=0.20 in /usr/local/lib/python3.6/dist-packages (from underthesea) (0.21.3)\n",
            "Requirement already satisfied: requests in /usr/local/lib/python3.6/dist-packages (from underthesea) (2.23.0)\n",
            "Requirement already satisfied: transformers<=3.5.1,>=3.5.0 in /usr/local/lib/python3.6/dist-packages (from underthesea) (3.5.1)\n",
            "Requirement already satisfied: tqdm in /usr/local/lib/python3.6/dist-packages (from underthesea) (4.41.1)\n",
            "Requirement already satisfied: future in /usr/local/lib/python3.6/dist-packages (from torch<=1.5.1,>=1.1.0->underthesea) (0.16.0)\n",
            "Requirement already satisfied: numpy in /usr/local/lib/python3.6/dist-packages (from torch<=1.5.1,>=1.1.0->underthesea) (1.19.4)\n",
            "Requirement already satisfied: six in /usr/local/lib/python3.6/dist-packages (from nltk->underthesea) (1.15.0)\n",
            "Requirement already satisfied: scipy>=0.17.0 in /usr/local/lib/python3.6/dist-packages (from scikit-learn<0.22,>=0.20->underthesea) (1.4.1)\n",
            "Requirement already satisfied: urllib3!=1.25.0,!=1.25.1,<1.26,>=1.21.1 in /usr/local/lib/python3.6/dist-packages (from requests->underthesea) (1.24.3)\n",
            "Requirement already satisfied: certifi>=2017.4.17 in /usr/local/lib/python3.6/dist-packages (from requests->underthesea) (2020.12.5)\n",
            "Requirement already satisfied: idna<3,>=2.5 in /usr/local/lib/python3.6/dist-packages (from requests->underthesea) (2.10)\n",
            "Requirement already satisfied: chardet<4,>=3.0.2 in /usr/local/lib/python3.6/dist-packages (from requests->underthesea) (3.0.4)\n",
            "Requirement already satisfied: regex!=2019.12.17 in /usr/local/lib/python3.6/dist-packages (from transformers<=3.5.1,>=3.5.0->underthesea) (2019.12.20)\n",
            "Requirement already satisfied: dataclasses; python_version < \"3.7\" in /usr/local/lib/python3.6/dist-packages (from transformers<=3.5.1,>=3.5.0->underthesea) (0.8)\n",
            "Requirement already satisfied: tokenizers==0.9.3 in /usr/local/lib/python3.6/dist-packages (from transformers<=3.5.1,>=3.5.0->underthesea) (0.9.3)\n",
            "Requirement already satisfied: protobuf in /usr/local/lib/python3.6/dist-packages (from transformers<=3.5.1,>=3.5.0->underthesea) (3.12.4)\n",
            "Requirement already satisfied: packaging in /usr/local/lib/python3.6/dist-packages (from transformers<=3.5.1,>=3.5.0->underthesea) (20.8)\n",
            "Requirement already satisfied: sacremoses in /usr/local/lib/python3.6/dist-packages (from transformers<=3.5.1,>=3.5.0->underthesea) (0.0.43)\n",
            "Requirement already satisfied: sentencepiece==0.1.91 in /usr/local/lib/python3.6/dist-packages (from transformers<=3.5.1,>=3.5.0->underthesea) (0.1.91)\n",
            "Requirement already satisfied: filelock in /usr/local/lib/python3.6/dist-packages (from transformers<=3.5.1,>=3.5.0->underthesea) (3.0.12)\n",
            "Requirement already satisfied: setuptools in /usr/local/lib/python3.6/dist-packages (from protobuf->transformers<=3.5.1,>=3.5.0->underthesea) (50.3.2)\n",
            "Requirement already satisfied: pyparsing>=2.0.2 in /usr/local/lib/python3.6/dist-packages (from packaging->transformers<=3.5.1,>=3.5.0->underthesea) (2.4.7)\n"
          ],
          "name": "stdout"
        }
      ]
    },
    {
      "cell_type": "code",
      "metadata": {
        "id": "dgtfJBoeND4a"
      },
      "source": [
        "from underthesea import word_tokenize"
      ],
      "execution_count": 193,
      "outputs": []
    },
    {
      "cell_type": "code",
      "metadata": {
        "colab": {
          "base_uri": "https://localhost:8080/",
          "height": 35
        },
        "id": "tq3B-E_JNmKu",
        "outputId": "6f872fc0-45a8-42cf-8cdf-818651a8f118"
      },
      "source": [
        "sentence = 'học sinh học sinh học'\r\n",
        "word_tokenize(sentence, format=\"text\")"
      ],
      "execution_count": 194,
      "outputs": [
        {
          "output_type": "execute_result",
          "data": {
            "application/vnd.google.colaboratory.intrinsic+json": {
              "type": "string"
            },
            "text/plain": [
              "'học_sinh học_sinh học'"
            ]
          },
          "metadata": {
            "tags": []
          },
          "execution_count": 194
        }
      ]
    },
    {
      "cell_type": "code",
      "metadata": {
        "id": "uLDDhOeDQ0GZ"
      },
      "source": [
        "def text_preprocess(document):\r\n",
        "    # chuẩn hóa unicode\r\n",
        "    document = convert_unicode(document)\r\n",
        "    # chuẩn hóa cách gõ dấu tiếng Việt\r\n",
        "    document = chuan_hoa_dau_cau_tieng_viet(document)\r\n",
        "    # tách từ\r\n",
        "    document = word_tokenize(document, format=\"text\")\r\n",
        "    # đưa về lower\r\n",
        "    document = document.lower()\r\n",
        "    # xóa các ký tự không cần thiết\r\n",
        "    document = re.sub(r'[^\\s\\wáàảãạăắằẳẵặâấầẩẫậéèẻẽẹêếềểễệóòỏõọôốồổỗộơớờởỡợíìỉĩịúùủũụưứừửữựýỳỷỹỵđ_]',' ',document)\r\n",
        "    # xóa khoảng trắng thừa\r\n",
        "    document = re.sub(r'\\s+', ' ', document).strip()\r\n",
        "    return document"
      ],
      "execution_count": 195,
      "outputs": []
    },
    {
      "cell_type": "code",
      "metadata": {
        "id": "JVcE13sbRapb"
      },
      "source": [
        "df = pd.concat([pd.read_csv('data.csv'), pd.read_csv('data1.csv')])"
      ],
      "execution_count": 196,
      "outputs": []
    },
    {
      "cell_type": "code",
      "metadata": {
        "id": "Sf8NVt9kUnBk"
      },
      "source": [
        "df = df.drop_duplicates(subset='content')"
      ],
      "execution_count": 197,
      "outputs": []
    },
    {
      "cell_type": "code",
      "metadata": {
        "colab": {
          "base_uri": "https://localhost:8080/"
        },
        "id": "YXOU-zDxX-5E",
        "outputId": "a87ea772-47eb-4186-b424-5ac820715cdb"
      },
      "source": [
        "df.value_counts('category')"
      ],
      "execution_count": 198,
      "outputs": [
        {
          "output_type": "execute_result",
          "data": {
            "text/plain": [
              "category\n",
              "doi-song      464\n",
              "giai-tri      463\n",
              "giao-duc      461\n",
              "kinh-doanh    454\n",
              "phap-luat     453\n",
              "suc-khoe      452\n",
              "dtype: int64"
            ]
          },
          "metadata": {
            "tags": []
          },
          "execution_count": 198
        }
      ]
    },
    {
      "cell_type": "code",
      "metadata": {
        "id": "i6QlG2I3Z7qo"
      },
      "source": [
        "df['parsed_content_1'] = df['content'].apply(text_preprocess)"
      ],
      "execution_count": 199,
      "outputs": []
    },
    {
      "cell_type": "code",
      "metadata": {
        "colab": {
          "base_uri": "https://localhost:8080/",
          "height": 204
        },
        "id": "oeE7VAwLasNw",
        "outputId": "09f29d38-a7af-47ad-c643-4a487825eec5"
      },
      "source": [
        "df.head()"
      ],
      "execution_count": 200,
      "outputs": [
        {
          "output_type": "execute_result",
          "data": {
            "text/html": [
              "<div>\n",
              "<style scoped>\n",
              "    .dataframe tbody tr th:only-of-type {\n",
              "        vertical-align: middle;\n",
              "    }\n",
              "\n",
              "    .dataframe tbody tr th {\n",
              "        vertical-align: top;\n",
              "    }\n",
              "\n",
              "    .dataframe thead th {\n",
              "        text-align: right;\n",
              "    }\n",
              "</style>\n",
              "<table border=\"1\" class=\"dataframe\">\n",
              "  <thead>\n",
              "    <tr style=\"text-align: right;\">\n",
              "      <th></th>\n",
              "      <th>Unnamed: 0</th>\n",
              "      <th>content</th>\n",
              "      <th>category</th>\n",
              "      <th>parsed_content_1</th>\n",
              "    </tr>\n",
              "  </thead>\n",
              "  <tbody>\n",
              "    <tr>\n",
              "      <th>0</th>\n",
              "      <td>0</td>\n",
              "      <td>\\nThuở hàn vi, các hãng mua máy bay chỉ bằng c...</td>\n",
              "      <td>kinh-doanh</td>\n",
              "      <td>thuở hàn_vi các hãng mua máy_bay chỉ bằng cách...</td>\n",
              "    </tr>\n",
              "    <tr>\n",
              "      <th>1</th>\n",
              "      <td>1</td>\n",
              "      <td>\\nGiá vàng trong nước sáng nay tiếp tục giảm t...</td>\n",
              "      <td>kinh-doanh</td>\n",
              "      <td>giá vàng trong nước sáng nay tiếp_tục giảm the...</td>\n",
              "    </tr>\n",
              "    <tr>\n",
              "      <th>2</th>\n",
              "      <td>2</td>\n",
              "      <td>\\nSo với lúc VN-Index tạo đáy cuối tháng 3, 29...</td>\n",
              "      <td>kinh-doanh</td>\n",
              "      <td>so với lúc vn index tạo đáy cuối tháng 3 2930 ...</td>\n",
              "    </tr>\n",
              "    <tr>\n",
              "      <th>3</th>\n",
              "      <td>3</td>\n",
              "      <td>\\nTrong bối cảnh Covid-19, nhiều người không p...</td>\n",
              "      <td>kinh-doanh</td>\n",
              "      <td>trong bối_cảnh covid 19 nhiều người không phải...</td>\n",
              "    </tr>\n",
              "    <tr>\n",
              "      <th>4</th>\n",
              "      <td>4</td>\n",
              "      <td>\\nViệt Nam có thể là một trong những quốc gia ...</td>\n",
              "      <td>kinh-doanh</td>\n",
              "      <td>việt nam có_thể là một trong những quốc_gia nh...</td>\n",
              "    </tr>\n",
              "  </tbody>\n",
              "</table>\n",
              "</div>"
            ],
            "text/plain": [
              "   Unnamed: 0  ...                                   parsed_content_1\n",
              "0           0  ...  thuở hàn_vi các hãng mua máy_bay chỉ bằng cách...\n",
              "1           1  ...  giá vàng trong nước sáng nay tiếp_tục giảm the...\n",
              "2           2  ...  so với lúc vn index tạo đáy cuối tháng 3 2930 ...\n",
              "3           3  ...  trong bối_cảnh covid 19 nhiều người không phải...\n",
              "4           4  ...  việt nam có_thể là một trong những quốc_gia nh...\n",
              "\n",
              "[5 rows x 4 columns]"
            ]
          },
          "metadata": {
            "tags": []
          },
          "execution_count": 200
        }
      ]
    },
    {
      "cell_type": "markdown",
      "metadata": {
        "id": "xOeObEEveqAj"
      },
      "source": [
        "4. **Xoá các stop word Tiếng Việt**"
      ]
    },
    {
      "cell_type": "code",
      "metadata": {
        "id": "J15x-utIa41n"
      },
      "source": [
        "from collections import Counter\r\n",
        "\r\n",
        "count_words = Counter(' '.join(df['parsed_content_1']).split())"
      ],
      "execution_count": 201,
      "outputs": []
    },
    {
      "cell_type": "code",
      "metadata": {
        "colab": {
          "base_uri": "https://localhost:8080/"
        },
        "id": "59oVbkVtbk23",
        "outputId": "52c386f2-6363-4366-b247-4f8134d53862"
      },
      "source": [
        "len(count_words)"
      ],
      "execution_count": 202,
      "outputs": [
        {
          "output_type": "execute_result",
          "data": {
            "text/plain": [
              "32479"
            ]
          },
          "metadata": {
            "tags": []
          },
          "execution_count": 202
        }
      ]
    },
    {
      "cell_type": "code",
      "metadata": {
        "colab": {
          "base_uri": "https://localhost:8080/"
        },
        "id": "nTRH3Hl4boO_",
        "outputId": "b6a9a0aa-0ce8-4dd5-a69f-74f1fe3ca04e"
      },
      "source": [
        "count_words.most_common(50)"
      ],
      "execution_count": 203,
      "outputs": [
        {
          "output_type": "execute_result",
          "data": {
            "text/plain": [
              "[('và', 19955),\n",
              " ('của', 16357),\n",
              " ('trong', 13294),\n",
              " ('các', 12810),\n",
              " ('là', 12423),\n",
              " ('cho', 12150),\n",
              " ('có', 12043),\n",
              " ('người', 11706),\n",
              " ('được', 11473),\n",
              " ('không', 10884),\n",
              " ('với', 10184),\n",
              " ('một', 9860),\n",
              " ('khi', 8526),\n",
              " ('để', 8031),\n",
              " ('những', 7532),\n",
              " ('năm', 7513),\n",
              " ('đã', 6924),\n",
              " ('đến', 6668),\n",
              " ('ở', 6497),\n",
              " ('từ', 6433),\n",
              " ('nhiều', 6306),\n",
              " ('này', 6256),\n",
              " ('về', 6086),\n",
              " ('vào', 5500),\n",
              " ('đó', 5498),\n",
              " ('sau', 5103),\n",
              " ('sẽ', 5014),\n",
              " ('hơn', 4948),\n",
              " ('tại', 4918),\n",
              " ('cũng', 4833),\n",
              " ('anh', 4809),\n",
              " ('ra', 4560),\n",
              " ('bị', 4520),\n",
              " ('ông', 4411),\n",
              " ('trên', 4376),\n",
              " ('ngày', 4312),\n",
              " ('bạn', 4295),\n",
              " ('như', 4262),\n",
              " ('tôi', 4133),\n",
              " ('nhà', 4029),\n",
              " ('hai', 4022),\n",
              " ('có_thể', 3973),\n",
              " ('phải', 3938),\n",
              " ('theo', 3857),\n",
              " ('làm', 3851),\n",
              " ('tháng', 3618),\n",
              " ('lại', 3597),\n",
              " ('nhưng', 3593),\n",
              " ('biết', 3577),\n",
              " ('nói', 3544)]"
            ]
          },
          "metadata": {
            "tags": []
          },
          "execution_count": 203
        }
      ]
    },
    {
      "cell_type": "code",
      "metadata": {
        "id": "lt1vQMsdd1Y-"
      },
      "source": [
        "stop_words, times = zip(*count_words.most_common(100))"
      ],
      "execution_count": 296,
      "outputs": []
    },
    {
      "cell_type": "code",
      "metadata": {
        "id": "dPJ25iN5HMr8",
        "outputId": "5e289f78-8d3e-4d0b-aa60-097393712e24",
        "colab": {
          "base_uri": "https://localhost:8080/"
        }
      },
      "source": [
        "stop_words"
      ],
      "execution_count": 286,
      "outputs": [
        {
          "output_type": "execute_result",
          "data": {
            "text/plain": [
              "('và',\n",
              " 'của',\n",
              " 'trong',\n",
              " 'các',\n",
              " 'là',\n",
              " 'cho',\n",
              " 'có',\n",
              " 'người',\n",
              " 'được',\n",
              " 'không',\n",
              " 'với',\n",
              " 'một',\n",
              " 'khi',\n",
              " 'để',\n",
              " 'những',\n",
              " 'năm',\n",
              " 'đã',\n",
              " 'đến',\n",
              " 'ở',\n",
              " 'từ',\n",
              " 'nhiều',\n",
              " 'này',\n",
              " 'về',\n",
              " 'vào',\n",
              " 'đó',\n",
              " 'sau',\n",
              " 'sẽ',\n",
              " 'hơn',\n",
              " 'tại',\n",
              " 'cũng',\n",
              " 'anh',\n",
              " 'ra',\n",
              " 'bị',\n",
              " 'ông',\n",
              " 'trên',\n",
              " 'ngày',\n",
              " 'bạn',\n",
              " 'như',\n",
              " 'tôi',\n",
              " 'nhà',\n",
              " 'hai',\n",
              " 'có_thể',\n",
              " 'phải',\n",
              " 'theo',\n",
              " 'làm',\n",
              " 'tháng',\n",
              " 'lại',\n",
              " 'nhưng',\n",
              " 'biết',\n",
              " 'nói',\n",
              " 'cô',\n",
              " 'tuổi',\n",
              " 'con',\n",
              " 'việc',\n",
              " 'đi',\n",
              " 'trước',\n",
              " 'chỉ',\n",
              " 'còn',\n",
              " 'nam',\n",
              " 'mình',\n",
              " 'nên',\n",
              " 'mới',\n",
              " 'trẻ',\n",
              " 'sự',\n",
              " 'đang',\n",
              " 'cùng',\n",
              " 'họ',\n",
              " 'khác',\n",
              " 'nhất',\n",
              " 'việt',\n",
              " 'vì',\n",
              " 'lên',\n",
              " 'trường',\n",
              " 'đồng',\n",
              " 'đây',\n",
              " 'lần',\n",
              " 'học',\n",
              " 'rất',\n",
              " 'do',\n",
              " 'qua',\n",
              " 'hoặc',\n",
              " 'cao',\n",
              " 'vẫn',\n",
              " 'nếu',\n",
              " 'thấy',\n",
              " 'tăng',\n",
              " '1',\n",
              " 'nước',\n",
              " 'bà',\n",
              " 'cần',\n",
              " 'cách',\n",
              " 'rằng',\n",
              " 'mà',\n",
              " 'đại_học',\n",
              " '2',\n",
              " 'điều',\n",
              " '3',\n",
              " 'tới',\n",
              " 'cả',\n",
              " 'gia_đình',\n",
              " 'lớn',\n",
              " 'tiền',\n",
              " 'giúp',\n",
              " '5',\n",
              " 'vaccine',\n",
              " 'mỗi',\n",
              " 'gần',\n",
              " 'triệu',\n",
              " 'đầu',\n",
              " 'hay',\n",
              " 'số',\n",
              " 'thì',\n",
              " 'chị',\n",
              " '000',\n",
              " 'thời_gian',\n",
              " 'từng',\n",
              " 'bằng',\n",
              " 'mẹ',\n",
              " 'mỹ',\n",
              " 'chưa',\n",
              " 'công_ty',\n",
              " '10',\n",
              " 'nhận',\n",
              " '19',\n",
              " 'ba',\n",
              " 'bộ',\n",
              " 'tp',\n",
              " 'hàng',\n",
              " 'thứ',\n",
              " 'sử_dụng',\n",
              " 'bên',\n",
              " '4',\n",
              " 'khiến',\n",
              " 'đưa',\n",
              " 'nhóm',\n",
              " 'tốt',\n",
              " 'nhau',\n",
              " 'muốn',\n",
              " 'giảm',\n",
              " 'thêm',\n",
              " 'covid',\n",
              " 'đều',\n",
              " 'tỷ',\n",
              " 'sống',\n",
              " 'bác_sĩ',\n",
              " 'khoảng',\n",
              " 'em',\n",
              " 'bệnh_nhân',\n",
              " 'một_số',\n",
              " 'phát_triển')"
            ]
          },
          "metadata": {
            "tags": []
          },
          "execution_count": 286
        }
      ]
    },
    {
      "cell_type": "code",
      "metadata": {
        "id": "WS9UPlYVe5Bz"
      },
      "source": [
        "df['parsed_content_2'] = df['parsed_content_1']\r\n",
        "for word in stop_words:\r\n",
        "  regex_word = r'\\b' + word + r'\\b'\r\n",
        "  df['parsed_content_2'] = df['parsed_content_2'].str.replace(regex_word, '', regex=True)"
      ],
      "execution_count": 297,
      "outputs": []
    },
    {
      "cell_type": "code",
      "metadata": {
        "colab": {
          "base_uri": "https://localhost:8080/",
          "height": 306
        },
        "id": "EeY863kAgBZW",
        "outputId": "04b887e1-8a30-4126-dda2-026a7b600890"
      },
      "source": [
        "df.head()"
      ],
      "execution_count": 298,
      "outputs": [
        {
          "output_type": "execute_result",
          "data": {
            "text/html": [
              "<div>\n",
              "<style scoped>\n",
              "    .dataframe tbody tr th:only-of-type {\n",
              "        vertical-align: middle;\n",
              "    }\n",
              "\n",
              "    .dataframe tbody tr th {\n",
              "        vertical-align: top;\n",
              "    }\n",
              "\n",
              "    .dataframe thead th {\n",
              "        text-align: right;\n",
              "    }\n",
              "</style>\n",
              "<table border=\"1\" class=\"dataframe\">\n",
              "  <thead>\n",
              "    <tr style=\"text-align: right;\">\n",
              "      <th></th>\n",
              "      <th>Unnamed: 0</th>\n",
              "      <th>content</th>\n",
              "      <th>category</th>\n",
              "      <th>parsed_content_1</th>\n",
              "      <th>parsed_content_2</th>\n",
              "      <th>category_code</th>\n",
              "    </tr>\n",
              "  </thead>\n",
              "  <tbody>\n",
              "    <tr>\n",
              "      <th>0</th>\n",
              "      <td>0</td>\n",
              "      <td>\\nThuở hàn vi, các hãng mua máy bay chỉ bằng c...</td>\n",
              "      <td>kinh-doanh</td>\n",
              "      <td>thuở hàn_vi các hãng mua máy_bay chỉ bằng cách...</td>\n",
              "      <td>thuở hàn_vi  hãng mua máy_bay  bằng  tham_khảo...</td>\n",
              "      <td>3</td>\n",
              "    </tr>\n",
              "    <tr>\n",
              "      <th>1</th>\n",
              "      <td>1</td>\n",
              "      <td>\\nGiá vàng trong nước sáng nay tiếp tục giảm t...</td>\n",
              "      <td>kinh-doanh</td>\n",
              "      <td>giá vàng trong nước sáng nay tiếp_tục giảm the...</td>\n",
              "      <td>giá vàng   sáng nay tiếp_tục giảm  giá thế_giớ...</td>\n",
              "      <td>3</td>\n",
              "    </tr>\n",
              "    <tr>\n",
              "      <th>2</th>\n",
              "      <td>2</td>\n",
              "      <td>\\nSo với lúc VN-Index tạo đáy cuối tháng 3, 29...</td>\n",
              "      <td>kinh-doanh</td>\n",
              "      <td>so với lúc vn index tạo đáy cuối tháng 3 2930 ...</td>\n",
              "      <td>so  lúc vn index tạo đáy cuối   2930 mã vn30  ...</td>\n",
              "      <td>3</td>\n",
              "    </tr>\n",
              "    <tr>\n",
              "      <th>3</th>\n",
              "      <td>3</td>\n",
              "      <td>\\nTrong bối cảnh Covid-19, nhiều người không p...</td>\n",
              "      <td>kinh-doanh</td>\n",
              "      <td>trong bối_cảnh covid 19 nhiều người không phải...</td>\n",
              "      <td>bối_cảnh covid 19     dân đầu_tư bất_động_sản...</td>\n",
              "      <td>3</td>\n",
              "    </tr>\n",
              "    <tr>\n",
              "      <th>4</th>\n",
              "      <td>4</td>\n",
              "      <td>\\nViệt Nam có thể là một trong những quốc gia ...</td>\n",
              "      <td>kinh-doanh</td>\n",
              "      <td>việt nam có_thể là một trong những quốc_gia nh...</td>\n",
              "      <td>quốc_gia nhận  lợi_ích  rcep    mặt_hàn...</td>\n",
              "      <td>3</td>\n",
              "    </tr>\n",
              "  </tbody>\n",
              "</table>\n",
              "</div>"
            ],
            "text/plain": [
              "   Unnamed: 0  ... category_code\n",
              "0           0  ...             3\n",
              "1           1  ...             3\n",
              "2           2  ...             3\n",
              "3           3  ...             3\n",
              "4           4  ...             3\n",
              "\n",
              "[5 rows x 6 columns]"
            ]
          },
          "metadata": {
            "tags": []
          },
          "execution_count": 298
        }
      ]
    },
    {
      "cell_type": "code",
      "metadata": {
        "id": "jnSdyeIWCZcM"
      },
      "source": [
        "columns = ['content', 'category', 'parsed_content_2']\r\n",
        "df = df[columns]\r\n",
        "\r\n",
        "df = df.rename(columns={'parsed_content_2': 'parsed_content'})"
      ],
      "execution_count": 160,
      "outputs": []
    },
    {
      "cell_type": "code",
      "metadata": {
        "id": "IQkZ-N9_DDNv",
        "outputId": "0d72a53a-4c0c-45d5-af66-040cdc8f79b1",
        "colab": {
          "base_uri": "https://localhost:8080/",
          "height": 204
        }
      },
      "source": [
        "df.head()"
      ],
      "execution_count": 161,
      "outputs": [
        {
          "output_type": "execute_result",
          "data": {
            "text/html": [
              "<div>\n",
              "<style scoped>\n",
              "    .dataframe tbody tr th:only-of-type {\n",
              "        vertical-align: middle;\n",
              "    }\n",
              "\n",
              "    .dataframe tbody tr th {\n",
              "        vertical-align: top;\n",
              "    }\n",
              "\n",
              "    .dataframe thead th {\n",
              "        text-align: right;\n",
              "    }\n",
              "</style>\n",
              "<table border=\"1\" class=\"dataframe\">\n",
              "  <thead>\n",
              "    <tr style=\"text-align: right;\">\n",
              "      <th></th>\n",
              "      <th>content</th>\n",
              "      <th>category</th>\n",
              "      <th>parsed_content</th>\n",
              "    </tr>\n",
              "  </thead>\n",
              "  <tbody>\n",
              "    <tr>\n",
              "      <th>0</th>\n",
              "      <td>\\nThuở hàn vi, các hãng mua máy bay chỉ bằng c...</td>\n",
              "      <td>kinh-doanh</td>\n",
              "      <td>thuở hàn_vi  hãng mua máy_bay chỉ bằng cách th...</td>\n",
              "    </tr>\n",
              "    <tr>\n",
              "      <th>1</th>\n",
              "      <td>\\nGiá vàng trong nước sáng nay tiếp tục giảm t...</td>\n",
              "      <td>kinh-doanh</td>\n",
              "      <td>giá vàng  nước sáng nay tiếp_tục giảm  giá thế...</td>\n",
              "    </tr>\n",
              "    <tr>\n",
              "      <th>2</th>\n",
              "      <td>\\nSo với lúc VN-Index tạo đáy cuối tháng 3, 29...</td>\n",
              "      <td>kinh-doanh</td>\n",
              "      <td>so  lúc vn index tạo đáy cuối  3 2930 mã vn30 ...</td>\n",
              "    </tr>\n",
              "    <tr>\n",
              "      <th>3</th>\n",
              "      <td>\\nTrong bối cảnh Covid-19, nhiều người không p...</td>\n",
              "      <td>kinh-doanh</td>\n",
              "      <td>bối_cảnh covid 19     dân đầu_tư bất_động_sản...</td>\n",
              "    </tr>\n",
              "    <tr>\n",
              "      <th>4</th>\n",
              "      <td>\\nViệt Nam có thể là một trong những quốc gia ...</td>\n",
              "      <td>kinh-doanh</td>\n",
              "      <td>việt nam      quốc_gia nhận  lợi_ích  rcep    ...</td>\n",
              "    </tr>\n",
              "  </tbody>\n",
              "</table>\n",
              "</div>"
            ],
            "text/plain": [
              "                                             content  ...                                     parsed_content\n",
              "0  \\nThuở hàn vi, các hãng mua máy bay chỉ bằng c...  ...  thuở hàn_vi  hãng mua máy_bay chỉ bằng cách th...\n",
              "1  \\nGiá vàng trong nước sáng nay tiếp tục giảm t...  ...  giá vàng  nước sáng nay tiếp_tục giảm  giá thế...\n",
              "2  \\nSo với lúc VN-Index tạo đáy cuối tháng 3, 29...  ...  so  lúc vn index tạo đáy cuối  3 2930 mã vn30 ...\n",
              "3  \\nTrong bối cảnh Covid-19, nhiều người không p...  ...   bối_cảnh covid 19     dân đầu_tư bất_động_sản...\n",
              "4  \\nViệt Nam có thể là một trong những quốc gia ...  ...  việt nam      quốc_gia nhận  lợi_ích  rcep    ...\n",
              "\n",
              "[5 rows x 3 columns]"
            ]
          },
          "metadata": {
            "tags": []
          },
          "execution_count": 161
        }
      ]
    },
    {
      "cell_type": "markdown",
      "metadata": {
        "id": "StWnWHBHgOES"
      },
      "source": [
        "# Chia tập dữ liệu thanh tập train và test"
      ]
    },
    {
      "cell_type": "markdown",
      "metadata": {
        "id": "XF4-X1fugXaI"
      },
      "source": [
        "label encoding"
      ]
    },
    {
      "cell_type": "code",
      "metadata": {
        "colab": {
          "base_uri": "https://localhost:8080/"
        },
        "id": "11oDIO8YgNpF",
        "outputId": "0f3519a5-020f-4a77-b057-385ee9989210"
      },
      "source": [
        "df.value_counts(\"category\")"
      ],
      "execution_count": 208,
      "outputs": [
        {
          "output_type": "execute_result",
          "data": {
            "text/plain": [
              "category\n",
              "doi-song      464\n",
              "giai-tri      463\n",
              "giao-duc      461\n",
              "kinh-doanh    454\n",
              "phap-luat     453\n",
              "suc-khoe      452\n",
              "dtype: int64"
            ]
          },
          "metadata": {
            "tags": []
          },
          "execution_count": 208
        }
      ]
    },
    {
      "cell_type": "code",
      "metadata": {
        "id": "N5zKuFXPgfE0"
      },
      "source": [
        "category_codes = {'doi-song': 0,\r\n",
        "                  'giai-tri': 1,\r\n",
        "                  'giao-duc': 2,\r\n",
        "                  'kinh-doanh': 3,\r\n",
        "                  'phap-luat': 4,\r\n",
        "                  'suc-khoe': 5}"
      ],
      "execution_count": 209,
      "outputs": []
    },
    {
      "cell_type": "code",
      "metadata": {
        "id": "NxqZ5bzCg5UI"
      },
      "source": [
        "df['category_code'] = df['category']\r\n",
        "df = df.replace({'category_code': category_codes})"
      ],
      "execution_count": 210,
      "outputs": []
    },
    {
      "cell_type": "code",
      "metadata": {
        "colab": {
          "base_uri": "https://localhost:8080/",
          "height": 306
        },
        "id": "XmzYvWD3hJZh",
        "outputId": "9e1847be-807c-4a4a-e817-d69fcd4b0721"
      },
      "source": [
        "df.head()"
      ],
      "execution_count": 299,
      "outputs": [
        {
          "output_type": "execute_result",
          "data": {
            "text/html": [
              "<div>\n",
              "<style scoped>\n",
              "    .dataframe tbody tr th:only-of-type {\n",
              "        vertical-align: middle;\n",
              "    }\n",
              "\n",
              "    .dataframe tbody tr th {\n",
              "        vertical-align: top;\n",
              "    }\n",
              "\n",
              "    .dataframe thead th {\n",
              "        text-align: right;\n",
              "    }\n",
              "</style>\n",
              "<table border=\"1\" class=\"dataframe\">\n",
              "  <thead>\n",
              "    <tr style=\"text-align: right;\">\n",
              "      <th></th>\n",
              "      <th>Unnamed: 0</th>\n",
              "      <th>content</th>\n",
              "      <th>category</th>\n",
              "      <th>parsed_content_1</th>\n",
              "      <th>parsed_content_2</th>\n",
              "      <th>category_code</th>\n",
              "    </tr>\n",
              "  </thead>\n",
              "  <tbody>\n",
              "    <tr>\n",
              "      <th>0</th>\n",
              "      <td>0</td>\n",
              "      <td>\\nThuở hàn vi, các hãng mua máy bay chỉ bằng c...</td>\n",
              "      <td>kinh-doanh</td>\n",
              "      <td>thuở hàn_vi các hãng mua máy_bay chỉ bằng cách...</td>\n",
              "      <td>thuở hàn_vi  hãng mua máy_bay  bằng  tham_khảo...</td>\n",
              "      <td>3</td>\n",
              "    </tr>\n",
              "    <tr>\n",
              "      <th>1</th>\n",
              "      <td>1</td>\n",
              "      <td>\\nGiá vàng trong nước sáng nay tiếp tục giảm t...</td>\n",
              "      <td>kinh-doanh</td>\n",
              "      <td>giá vàng trong nước sáng nay tiếp_tục giảm the...</td>\n",
              "      <td>giá vàng   sáng nay tiếp_tục giảm  giá thế_giớ...</td>\n",
              "      <td>3</td>\n",
              "    </tr>\n",
              "    <tr>\n",
              "      <th>2</th>\n",
              "      <td>2</td>\n",
              "      <td>\\nSo với lúc VN-Index tạo đáy cuối tháng 3, 29...</td>\n",
              "      <td>kinh-doanh</td>\n",
              "      <td>so với lúc vn index tạo đáy cuối tháng 3 2930 ...</td>\n",
              "      <td>so  lúc vn index tạo đáy cuối   2930 mã vn30  ...</td>\n",
              "      <td>3</td>\n",
              "    </tr>\n",
              "    <tr>\n",
              "      <th>3</th>\n",
              "      <td>3</td>\n",
              "      <td>\\nTrong bối cảnh Covid-19, nhiều người không p...</td>\n",
              "      <td>kinh-doanh</td>\n",
              "      <td>trong bối_cảnh covid 19 nhiều người không phải...</td>\n",
              "      <td>bối_cảnh covid 19     dân đầu_tư bất_động_sản...</td>\n",
              "      <td>3</td>\n",
              "    </tr>\n",
              "    <tr>\n",
              "      <th>4</th>\n",
              "      <td>4</td>\n",
              "      <td>\\nViệt Nam có thể là một trong những quốc gia ...</td>\n",
              "      <td>kinh-doanh</td>\n",
              "      <td>việt nam có_thể là một trong những quốc_gia nh...</td>\n",
              "      <td>quốc_gia nhận  lợi_ích  rcep    mặt_hàn...</td>\n",
              "      <td>3</td>\n",
              "    </tr>\n",
              "  </tbody>\n",
              "</table>\n",
              "</div>"
            ],
            "text/plain": [
              "   Unnamed: 0  ... category_code\n",
              "0           0  ...             3\n",
              "1           1  ...             3\n",
              "2           2  ...             3\n",
              "3           3  ...             3\n",
              "4           4  ...             3\n",
              "\n",
              "[5 rows x 6 columns]"
            ]
          },
          "metadata": {
            "tags": []
          },
          "execution_count": 299
        }
      ]
    },
    {
      "cell_type": "code",
      "metadata": {
        "id": "2CcMDbTqhcjJ"
      },
      "source": [
        "X_train, X_test, Y_train, Y_test = train_test_split(df['parsed_content_2'], df['category_code'],\r\n",
        "                                                    test_size=0.2, random_state=1)"
      ],
      "execution_count": 300,
      "outputs": []
    },
    {
      "cell_type": "markdown",
      "metadata": {
        "id": "On1o7a5mh1bt"
      },
      "source": [
        "# Xậy dựng vector cho mỗi văn bản bằng phương pháp TF-IDF"
      ]
    },
    {
      "cell_type": "code",
      "metadata": {
        "id": "nxEdXIcUh0FW"
      },
      "source": [
        "\r\n",
        "tfidf = TfidfVectorizer(encoding='utf-8',\r\n",
        "                        max_features=2000)"
      ],
      "execution_count": 301,
      "outputs": []
    },
    {
      "cell_type": "code",
      "metadata": {
        "id": "OlRjG9Vaila2"
      },
      "source": [
        "features_train = tfidf.fit_transform(X_train).toarray()\r\n",
        "\r\n",
        "features_test = tfidf.transform(X_test).toarray()"
      ],
      "execution_count": 302,
      "outputs": []
    },
    {
      "cell_type": "markdown",
      "metadata": {
        "id": "EA5XZOUaivLF"
      },
      "source": [
        "# Huấn luyện model"
      ]
    },
    {
      "cell_type": "code",
      "metadata": {
        "id": "JGyXmaMNjayy"
      },
      "source": [
        "labels_train = Y_train\r\n",
        "labels_test = Y_test"
      ],
      "execution_count": 303,
      "outputs": []
    },
    {
      "cell_type": "code",
      "metadata": {
        "colab": {
          "base_uri": "https://localhost:8080/"
        },
        "id": "OSPgEst6i2Ce",
        "outputId": "74835ab1-05ba-4c03-b899-7dcc0bdc491c"
      },
      "source": [
        "\r\n",
        "# Model 1: Linear Support Vector Classifier\r\n",
        "\r\n",
        "lsvc = LinearSVC()\r\n",
        "\r\n",
        "# Training the model\r\n",
        "lsvc.fit(features_train, labels_train)\r\n",
        "\r\n",
        "# Getting the score of train and test data\r\n",
        "print(lsvc.score(features_train, labels_train))\r\n",
        "print(lsvc.score(features_test, labels_test))"
      ],
      "execution_count": 304,
      "outputs": [
        {
          "output_type": "stream",
          "text": [
            "0.9986345015930814\n",
            "0.9436363636363636\n"
          ],
          "name": "stdout"
        }
      ]
    },
    {
      "cell_type": "code",
      "metadata": {
        "colab": {
          "base_uri": "https://localhost:8080/"
        },
        "id": "8cg5ZYVmjJT_",
        "outputId": "2f959da4-32dd-46ca-df58-545d4868f465"
      },
      "source": [
        "# Model 2: Gaussian Naive Bayes\r\n",
        "\r\n",
        "gnb = GaussianNB()\r\n",
        "\r\n",
        "# Training the model\r\n",
        "gnb.fit(features_train, labels_train)\r\n",
        "\r\n",
        "# Getting the score of train and test data\r\n",
        "print(gnb.score(features_train, labels_train))\r\n",
        "print(gnb.score(features_test, labels_test))"
      ],
      "execution_count": 305,
      "outputs": [
        {
          "output_type": "stream",
          "text": [
            "0.9845243513882567\n",
            "0.8218181818181818\n"
          ],
          "name": "stdout"
        }
      ]
    },
    {
      "cell_type": "code",
      "metadata": {
        "colab": {
          "base_uri": "https://localhost:8080/"
        },
        "id": "CiRWbp2IjMAJ",
        "outputId": "be85a150-3b36-4142-e126-d60e4562a3b9"
      },
      "source": [
        "lr = LogisticRegression(multi_class='auto', solver='lbfgs')\r\n",
        "\r\n",
        "# Training the model\r\n",
        "lr.fit(features_train, labels_train)\r\n",
        "\r\n",
        "# Getting the score of train and test data\r\n",
        "print(lr.score(features_train, labels_train))\r\n",
        "print(lr.score(features_test, labels_test))"
      ],
      "execution_count": 306,
      "outputs": [
        {
          "output_type": "stream",
          "text": [
            "0.9767865270823851\n",
            "0.9509090909090909\n"
          ],
          "name": "stdout"
        }
      ]
    },
    {
      "cell_type": "code",
      "metadata": {
        "colab": {
          "base_uri": "https://localhost:8080/"
        },
        "id": "tZWnT8pCjOEO",
        "outputId": "65b4a6b2-5825-4670-dd94-4f820c92b449"
      },
      "source": [
        "# Model 4: Random Forest Classifier\r\n",
        "\r\n",
        "rfc = RandomForestClassifier(n_estimators= 10, random_state= 0)\r\n",
        "\r\n",
        "# Training the model\r\n",
        "rfc.fit(features_train, labels_train)\r\n",
        "\r\n",
        "# Getting the score of train and test data\r\n",
        "print(rfc.score(features_train, labels_train))\r\n",
        "print(rfc.score(features_test, labels_test))"
      ],
      "execution_count": 307,
      "outputs": [
        {
          "output_type": "stream",
          "text": [
            "0.9968138370505234\n",
            "0.8581818181818182\n"
          ],
          "name": "stdout"
        }
      ]
    },
    {
      "cell_type": "code",
      "metadata": {
        "id": "yuc0lM57lnX8"
      },
      "source": [
        "import pickle"
      ],
      "execution_count": 309,
      "outputs": []
    },
    {
      "cell_type": "code",
      "metadata": {
        "id": "eEQ7b6z_l0J3"
      },
      "source": [
        "with open('tfidf.pickle', 'wb') as f:\r\n",
        "  pickle.dump(tfidf, f)"
      ],
      "execution_count": 310,
      "outputs": []
    },
    {
      "cell_type": "code",
      "metadata": {
        "id": "gvi0CVSKmI0b"
      },
      "source": [
        "with open('model.pickle', 'wb') as f:\r\n",
        "  pickle.dump(lsvc, f)"
      ],
      "execution_count": 311,
      "outputs": []
    }
  ]
}