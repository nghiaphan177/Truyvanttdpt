{
  "nbformat": 4,
  "nbformat_minor": 0,
  "metadata": {
    "kernelspec": {
      "display_name": "Python 3",
      "language": "python",
      "name": "python3"
    },
    "language_info": {
      "codemirror_mode": {
        "name": "ipython",
        "version": 3
      },
      "file_extension": ".py",
      "mimetype": "text/x-python",
      "name": "python",
      "nbconvert_exporter": "python",
      "pygments_lexer": "ipython3",
      "version": "3.7.1"
    },
    "colab": {
      "name": "Model_Interpretation.ipynb",
      "provenance": [],
      "collapsed_sections": []
    }
  },
  "cells": [
    {
      "cell_type": "markdown",
      "metadata": {
        "id": "vM1XcV8YDbrt"
      },
      "source": [
        "# Model Interpretation"
      ]
    },
    {
      "cell_type": "markdown",
      "metadata": {
        "id": "HH430GaGDbrt"
      },
      "source": [
        "At this point we have selected the SVM as our preferred model to do the predictions. We will now study its behaviour by analyzing misclassified articles. Hopefully this will give us some insights on the way the model is working."
      ]
    },
    {
      "cell_type": "code",
      "metadata": {
        "id": "OSLRUlziDbrt"
      },
      "source": [
        "import pickle\n",
        "import pandas as pd\n",
        "import numpy as np\n",
        "import random\n",
        "import zipfile"
      ],
      "execution_count": 1,
      "outputs": []
    },
    {
      "cell_type": "markdown",
      "metadata": {
        "id": "R5vUPRdjDbrt"
      },
      "source": [
        "Let's load what we need:"
      ]
    },
    {
      "cell_type": "code",
      "metadata": {
        "colab": {
          "base_uri": "https://localhost:8080/"
        },
        "id": "jBygxPpQEw3U",
        "outputId": "12113f7c-17a1-4733-d13f-dc203fac5cf7"
      },
      "source": [
        "from google.colab import drive\n",
        "drive.mount('/content/drive')"
      ],
      "execution_count": 3,
      "outputs": [
        {
          "output_type": "stream",
          "text": [
            "Drive already mounted at /content/drive; to attempt to forcibly remount, call drive.mount(\"/content/drive\", force_remount=True).\n"
          ],
          "name": "stdout"
        }
      ]
    },
    {
      "cell_type": "code",
      "metadata": {
        "id": "pGePRZ0KEWoF"
      },
      "source": [
        "local_zip = '/content/Pickles.zip'\n",
        "zip_ref = zipfile.ZipFile(local_zip, 'r')\n",
        "zip_ref.extractall(\".\")\n",
        "zip_ref.close()"
      ],
      "execution_count": 5,
      "outputs": []
    },
    {
      "cell_type": "code",
      "metadata": {
        "id": "OzBM0ImoDbrt"
      },
      "source": [
        "# Dataframe\n",
        "path_df = \"/content/Pickles/df.pickle\"\n",
        "with open(path_df, 'rb') as data:\n",
        "    df = pickle.load(data)\n",
        "    \n",
        "# X_train\n",
        "path_X_train = \"/content/Pickles/X_train.pickle\"\n",
        "with open(path_X_train, 'rb') as data:\n",
        "    X_train = pickle.load(data)\n",
        "\n",
        "# X_test\n",
        "path_X_test = \"/content/Pickles/X_test.pickle\"\n",
        "with open(path_X_test, 'rb') as data:\n",
        "    X_test = pickle.load(data)\n",
        "\n",
        "# y_train\n",
        "path_y_train = \"/content/Pickles/Y_train.pickle\"\n",
        "with open(path_y_train, 'rb') as data:\n",
        "    y_train = pickle.load(data)\n",
        "\n",
        "# y_test\n",
        "path_y_test = \"/content/Pickles/Y_train.pickle\"\n",
        "with open(path_y_test, 'rb') as data:\n",
        "    y_test = pickle.load(data)\n",
        "\n",
        "# features_train\n",
        "path_features_train = \"/content/Pickles/features_train.pickle\"\n",
        "with open(path_features_train, 'rb') as data:\n",
        "    features_train = pickle.load(data)\n",
        "\n",
        "# labels_train\n",
        "path_labels_train = \"/content/Pickles/labels_train.pickle\"\n",
        "with open(path_labels_train, 'rb') as data:\n",
        "    labels_train = pickle.load(data)\n",
        "\n",
        "# features_test\n",
        "path_features_test = \"/content/Pickles/features_test.pickle\"\n",
        "with open(path_features_test, 'rb') as data:\n",
        "    features_test = pickle.load(data)\n",
        "\n",
        "# labels_test\n",
        "path_labels_test = \"/content/Pickles/labels_test.pickle\"\n",
        "with open(path_labels_test, 'rb') as data:\n",
        "    labels_test = pickle.load(data)\n",
        "    \n",
        "# MNB Model\n",
        "path_model = \"/content/drive/MyDrive/TVTTDPT/best_mnbc.pickle\"\n",
        "with open(path_model, 'rb') as data:\n",
        "    mnb_model = pickle.load(data)\n",
        "    \n",
        "# Category mapping dictionary\n",
        "category_codes = {\n",
        "    'giai-tri': 1,\n",
        "    'phap-luat': 2,\n",
        "    'kinh-doanh': 3,\n",
        "}\n",
        "\n",
        "category_names = {\n",
        "    0: 'giai-tri',\n",
        "    1: 'phap-luat',\n",
        "    2: 'kinh-doanh',\n",
        "}"
      ],
      "execution_count": 6,
      "outputs": []
    },
    {
      "cell_type": "markdown",
      "metadata": {
        "id": "riTo5gt2Dbrt"
      },
      "source": [
        "Let's get the predictions on the test set:"
      ]
    },
    {
      "cell_type": "code",
      "metadata": {
        "id": "yLakRaSZDbrt"
      },
      "source": [
        "predictions = mnb_model.predict(features_test)"
      ],
      "execution_count": 7,
      "outputs": []
    },
    {
      "cell_type": "markdown",
      "metadata": {
        "id": "exgJ69A9Dbrt"
      },
      "source": [
        "Now we'll create the Test Set dataframe with the actual and predicted categories:"
      ]
    },
    {
      "cell_type": "code",
      "metadata": {
        "id": "Nj9hAzoyDbrt"
      },
      "source": [
        "# Indexes of the test set\n",
        "index_X_test = X_test.index\n",
        "\n",
        "# We get them from the original df\n",
        "df_test = df.loc[index_X_test]\n",
        "\n",
        "# Add the predictions\n",
        "df_test['prediction'] = predictions\n",
        "\n",
        "# Clean columns\n",
        "df_test = df_test[['content', 'category', 'category_code', 'prediction']]\n",
        "\n",
        "# Decode\n",
        "df_test['category_predicted'] = df_test['prediction']\n",
        "df_test = df_test.replace({'Category_Predicted':category_names})\n",
        "\n",
        "# Clean columns again\n",
        "df_test = df_test[['content', 'category', 'category_predicted']]"
      ],
      "execution_count": 8,
      "outputs": []
    },
    {
      "cell_type": "code",
      "metadata": {
        "id": "w2uo1iUZDbrt",
        "colab": {
          "base_uri": "https://localhost:8080/",
          "height": 195
        },
        "outputId": "3f4362ac-5c0e-4dca-d0bc-bf03a86d3d04"
      },
      "source": [
        "df_test.head()"
      ],
      "execution_count": 10,
      "outputs": [
        {
          "output_type": "execute_result",
          "data": {
            "text/html": [
              "<div>\n",
              "<style scoped>\n",
              "    .dataframe tbody tr th:only-of-type {\n",
              "        vertical-align: middle;\n",
              "    }\n",
              "\n",
              "    .dataframe tbody tr th {\n",
              "        vertical-align: top;\n",
              "    }\n",
              "\n",
              "    .dataframe thead th {\n",
              "        text-align: right;\n",
              "    }\n",
              "</style>\n",
              "<table border=\"1\" class=\"dataframe\">\n",
              "  <thead>\n",
              "    <tr style=\"text-align: right;\">\n",
              "      <th></th>\n",
              "      <th>content</th>\n",
              "      <th>category</th>\n",
              "      <th>category_predicted</th>\n",
              "    </tr>\n",
              "  </thead>\n",
              "  <tbody>\n",
              "    <tr>\n",
              "      <th>1237</th>\n",
              "      <td>\\nMỹMinh tinh Angelina Jolie đưa con trai Knox...</td>\n",
              "      <td>giai-tri</td>\n",
              "      <td>1</td>\n",
              "    </tr>\n",
              "    <tr>\n",
              "      <th>437</th>\n",
              "      <td>\\nThế giới cần 8.000 máy bay chở hàng trong 2 ...</td>\n",
              "      <td>kinh-doanh</td>\n",
              "      <td>3</td>\n",
              "    </tr>\n",
              "    <tr>\n",
              "      <th>51</th>\n",
              "      <td>\\nKhách mua căn hộ Babylon Tower được tặng khu...</td>\n",
              "      <td>kinh-doanh</td>\n",
              "      <td>3</td>\n",
              "    </tr>\n",
              "    <tr>\n",
              "      <th>579</th>\n",
              "      <td>\\nQuảng NamSau khi bắn một người chết và ba ng...</td>\n",
              "      <td>phap-luat</td>\n",
              "      <td>2</td>\n",
              "    </tr>\n",
              "    <tr>\n",
              "      <th>238</th>\n",
              "      <td>\\nÔng Trần Huy Thanh Tùng – Trưởng ban kiểm to...</td>\n",
              "      <td>kinh-doanh</td>\n",
              "      <td>3</td>\n",
              "    </tr>\n",
              "  </tbody>\n",
              "</table>\n",
              "</div>"
            ],
            "text/plain": [
              "                                                content  ... category_predicted\n",
              "1237  \\nMỹMinh tinh Angelina Jolie đưa con trai Knox...  ...                  1\n",
              "437   \\nThế giới cần 8.000 máy bay chở hàng trong 2 ...  ...                  3\n",
              "51    \\nKhách mua căn hộ Babylon Tower được tặng khu...  ...                  3\n",
              "579   \\nQuảng NamSau khi bắn một người chết và ba ng...  ...                  2\n",
              "238   \\nÔng Trần Huy Thanh Tùng – Trưởng ban kiểm to...  ...                  3\n",
              "\n",
              "[5 rows x 3 columns]"
            ]
          },
          "metadata": {
            "tags": []
          },
          "execution_count": 10
        }
      ]
    },
    {
      "cell_type": "markdown",
      "metadata": {
        "id": "FqCyhnLrDbru"
      },
      "source": [
        "Let's get the misclassified articles:"
      ]
    },
    {
      "cell_type": "code",
      "metadata": {
        "id": "YDDjm66lDbru",
        "colab": {
          "base_uri": "https://localhost:8080/",
          "height": 136
        },
        "outputId": "616c8c1e-5064-46d0-db47-47a227f79016"
      },
      "source": [
        "condition = (df_test['category'] != df_test['category_predicted'])\n",
        "\n",
        "df_misclassified = df_test[condition]\n",
        "\n",
        "df_misclassified.head(3)"
      ],
      "execution_count": 11,
      "outputs": [
        {
          "output_type": "execute_result",
          "data": {
            "text/html": [
              "<div>\n",
              "<style scoped>\n",
              "    .dataframe tbody tr th:only-of-type {\n",
              "        vertical-align: middle;\n",
              "    }\n",
              "\n",
              "    .dataframe tbody tr th {\n",
              "        vertical-align: top;\n",
              "    }\n",
              "\n",
              "    .dataframe thead th {\n",
              "        text-align: right;\n",
              "    }\n",
              "</style>\n",
              "<table border=\"1\" class=\"dataframe\">\n",
              "  <thead>\n",
              "    <tr style=\"text-align: right;\">\n",
              "      <th></th>\n",
              "      <th>content</th>\n",
              "      <th>category</th>\n",
              "      <th>category_predicted</th>\n",
              "    </tr>\n",
              "  </thead>\n",
              "  <tbody>\n",
              "    <tr>\n",
              "      <th>1237</th>\n",
              "      <td>\\nMỹMinh tinh Angelina Jolie đưa con trai Knox...</td>\n",
              "      <td>giai-tri</td>\n",
              "      <td>1</td>\n",
              "    </tr>\n",
              "    <tr>\n",
              "      <th>437</th>\n",
              "      <td>\\nThế giới cần 8.000 máy bay chở hàng trong 2 ...</td>\n",
              "      <td>kinh-doanh</td>\n",
              "      <td>3</td>\n",
              "    </tr>\n",
              "    <tr>\n",
              "      <th>51</th>\n",
              "      <td>\\nKhách mua căn hộ Babylon Tower được tặng khu...</td>\n",
              "      <td>kinh-doanh</td>\n",
              "      <td>3</td>\n",
              "    </tr>\n",
              "  </tbody>\n",
              "</table>\n",
              "</div>"
            ],
            "text/plain": [
              "                                                content  ... category_predicted\n",
              "1237  \\nMỹMinh tinh Angelina Jolie đưa con trai Knox...  ...                  1\n",
              "437   \\nThế giới cần 8.000 máy bay chở hàng trong 2 ...  ...                  3\n",
              "51    \\nKhách mua căn hộ Babylon Tower được tặng khu...  ...                  3\n",
              "\n",
              "[3 rows x 3 columns]"
            ]
          },
          "metadata": {
            "tags": []
          },
          "execution_count": 11
        }
      ]
    },
    {
      "cell_type": "markdown",
      "metadata": {
        "id": "8nCl23ZmDbru"
      },
      "source": [
        "Let's get a sample of 3 articles. We'll define a function to make this process faster:"
      ]
    },
    {
      "cell_type": "code",
      "metadata": {
        "id": "LMU8Khn-Dbru"
      },
      "source": [
        "def output_article(row_article):\n",
        "    print('Actual Category: %s' %(row_article['category']))\n",
        "    print('Predicted Category: %s' %(row_article['category_predicted']))\n",
        "    print('-------------------------------------------')\n",
        "    print('Text: ')\n",
        "    print('%s' %(row_article['content']))"
      ],
      "execution_count": 12,
      "outputs": []
    },
    {
      "cell_type": "markdown",
      "metadata": {
        "id": "0yCZ3OK_Dbru"
      },
      "source": [
        "We'll get three random numbers from the indexes:"
      ]
    },
    {
      "cell_type": "code",
      "metadata": {
        "id": "JneGW4eiDbru",
        "colab": {
          "base_uri": "https://localhost:8080/"
        },
        "outputId": "5358da4f-7b01-4786-ce1b-867781d74e9f"
      },
      "source": [
        "random.seed(8)\n",
        "list_samples = random.sample(list(df_misclassified.index), 3)\n",
        "list_samples"
      ],
      "execution_count": 13,
      "outputs": [
        {
          "output_type": "execute_result",
          "data": {
            "text/plain": [
              "[821, 985, 1245]"
            ]
          },
          "metadata": {
            "tags": []
          },
          "execution_count": 13
        }
      ]
    },
    {
      "cell_type": "markdown",
      "metadata": {
        "id": "UgR1eRoEDbru"
      },
      "source": [
        "First case:"
      ]
    },
    {
      "cell_type": "code",
      "metadata": {
        "scrolled": false,
        "id": "88vYCEgLDbru",
        "colab": {
          "base_uri": "https://localhost:8080/"
        },
        "outputId": "a40f0427-b9a3-403a-b9c6-8c5a7b9160f4"
      },
      "source": [
        "output_article(df_misclassified.loc[list_samples[0]])"
      ],
      "execution_count": 16,
      "outputs": [
        {
          "output_type": "stream",
          "text": [
            "Actual Category: phap-luat\n",
            "Predicted Category: 2\n",
            "-------------------------------------------\n",
            "Text: \n",
            "\n",
            "TP HCMVào khách sạn với Trần Văn Mạnh, 34 tuổi, sau thời gian tán tỉnh nhau trên mạng xã hội, người phụ nữ bị hắn quay clip khỏa thân rồi tống tiền.\n",
            "Ngày 13/11, Mạnh, ngụ tỉnh Phú Thọ, bị TAND TP HCM tăng hình phạt từ 7 tháng lên một năm tù về tội Cưỡng đoạt tài sản.\n",
            "Theo bản án sơ thẩm, chị Nguyễn ngụ tỉnh Vĩnh Phúc, đã có gia đình và đang sống ở TP HCM. Đầu năm 2017, mỗi lần về quê chị thường hẹn Mạnh đến khách sạn \"tâm sự\". Gã trai lén quay clip chị khỏa thân.\n",
            "Đến năm 2018, Mạnh nhắn tin yêu cầu Nguyễn đưa 5 triệu đồng nếu không sẽ gửi clip \"nóng\" cho bạn bè, người thân của chị này. Sợ bị ảnh hưởng cuộc sống gia đình, người đàn bà chuyển khoản cho hắn.\n",
            "Ngày 14/4, sau khi vào Sài Gòn sống, Mạnh nhắn tin mượn Nguyễn một triệu đồng. Chị này không đồng ý, hắn dọa sẽ tung clip lên mạng. Nạn nhân than đang hết tiền, đưa trước 300.000 đồng và hẹn hôm sau sẽ đưa số còn lại. Mạnh nói, nếu để đến ngày mai phải đưa 2 triệu đồng.\n",
            "Sự việc được nạn nhân trình báo Công an huyện Hóc Môn. Chiều hôm sau, khi Mạnh nhận 2 triệu đồng của chị Nguyễn bị cảnh sát bắt giữ.\n",
            "Xử sơ thẩm, TAND huyện Hóc Môn tuyên Mạnh 7 tháng tù. VKS kháng nghị vì cho rằng tòa chưa áp dụng tình tiết tăng nặng đối với bị cáo là \"phạm tội hai lần trở lên\", đề nghị cấp phúc thẩm tăng án lên một đến 1 năm 6 tháng tù.\n",
            "Hôm nay, quan điểm của VKS được TAND TP HCM chấp nhận.\n"
          ],
          "name": "stdout"
        }
      ]
    },
    {
      "cell_type": "markdown",
      "metadata": {
        "id": "Vp1odYg0Dbrv"
      },
      "source": [
        "Second case:"
      ]
    },
    {
      "cell_type": "code",
      "metadata": {
        "id": "nYCam-MQDbrv",
        "colab": {
          "base_uri": "https://localhost:8080/"
        },
        "outputId": "78fd29a4-c75f-4bef-b420-59f3b0c0c570"
      },
      "source": [
        "output_article(df_misclassified.loc[list_samples[1]])"
      ],
      "execution_count": 15,
      "outputs": [
        {
          "output_type": "stream",
          "text": [
            "Actual Category: phap-luat\n",
            "Predicted Category: 2\n",
            "-------------------------------------------\n",
            "Text: \n",
            "\n",
            "Nhật BảnSự cô đơn và buồn chán có thể làm gia tăng số vụ trộm cắp do người cao tuổi thực hiện tại Nhật Bản.\n",
            "Trong khi số vụ bắt giữ tại Nhật ổn định theo hướng giảm dần trong vòng 17 năm qua, \"tội phạm tóc bạc\", hiện tượng người cao tuổi (trên 65 tuổi) phạm tội, lại có xu hướng khác biệt rõ rệt, theo số liệu do Bộ Tư pháp công bố ngày 24/11 trong sách trắng hàng năm về thống kê và xu hướng tội phạm.\n",
            "Cụ thể, tội danh trộm cắp tài sản chiếm chưa đầy một nửa tổng số vụ phạm tội được ghi nhận, nhưng chiếm tới 70% số vụ bắt giữ người trên 70 tuổi. Trong gần 42.500 người cao tuổi bị bắt năm 2019, một phần ba là phụ nữ. Trung bình 10 phụ nữ bị bắt có 9 người trộm đồ trong siêu thị hoặc trộm cắp tài sản.\n",
            "Shinichi Ishizuka, giáo sư luật kiêm giám đốc Trung tâm Nghiên cứu Tội phạm học thuộc Đại học Ryukoku, thành phố Kyoto, nhận định có một vài yếu tố đằng sau làn sóng \"tội phạm tóc bạc\".\n",
            "Nhiều trường hợp là người cao tuổi sống một mình sau khi bạn đời mất và không thường xuyên gặp mặt con cái đang ở riêng. Vì bị tách biệt và thường thấy buồn chán, những người này ăn trộm để được người khác chú ý. Shinichi Ishizuka cho hay đánh giá trên được dựa trên thống kê của Bộ Tư pháp rằng 48,8% người bị khởi tố là người tái phạm nhiều lần.\n",
            "Với một số người khác, động cơ phạm tội chỉ đơn giản có đủ tiền hoặc thức ăn sống qua ngày. Tình cảnh này có thể trở nên tồi tệ hơn trong Covid-19 và khi thù lao từ những công việc bán thời gian mà người đã về hưu nhận làm để bổ trợ cho khoản hưu trí ít ỏi dần giảm sút.\n",
            "Ví dụ, cuối tháng 9, cảnh sát tại Yokohama bắt giữ cụ ông 77 tuổi vì tình nghi ăn cắp 1.500 yên Nhật trong hòm tiền công đức. Không có chỗ ở cố định và thất nghiệp, cụ ông được cho là đã trộm tiền một vài lần từ đầu mùa hè.\n",
            "Hiện, Bộ Tư pháp đã khởi xướng dự án nghiên cứu để hiểu rõ hơn nguồn gốc vấn đề và ngăn chặn làn sóng \"tội phạm tóc bạc\". Phòng cảnh sát ở những nơi có số lượng lớn tội phạm do người cao tuổi thực hiện đã xây dựng bản câu hỏi cho người gây án để thực hiện khảo sát.\n",
            "Hơn một phần tư dân số Nhật Bản là người trên 65 tuổi. Tỉ lệ này dự kiến đạt một phần ba vào năm 2050.\n"
          ],
          "name": "stdout"
        }
      ]
    },
    {
      "cell_type": "markdown",
      "metadata": {
        "id": "017_cmacDbrv"
      },
      "source": [
        "Third case:"
      ]
    },
    {
      "cell_type": "code",
      "metadata": {
        "id": "5KrNF9fiDbrv",
        "colab": {
          "base_uri": "https://localhost:8080/"
        },
        "outputId": "b2e0fda5-0c35-4cdc-b974-2de3d3eeebfa"
      },
      "source": [
        "output_article(df_misclassified.loc[list_samples[2]])"
      ],
      "execution_count": 17,
      "outputs": [
        {
          "output_type": "stream",
          "text": [
            "Actual Category: giai-tri\n",
            "Predicted Category: 1\n",
            "-------------------------------------------\n",
            "Text: \n",
            "\n",
            "Thái Thị Hoa, thí sinh Việt Nam tại Miss Earth 2020, diện áo tắm cut-out thi Trang phục biển.\n",
            "Trong phần thi cùng dàn người đẹp khu vực châu Á - Thái Bình Dương ngày 11/11, Thái Thị Hoa chọn đồ của nhà thiết kế Nguyễn Minh Tuấn - người từng phụ trách trang phục áo tắm cho Hoàng Hạnh năm ngoái. Bộ đồ màu xanh lục cùng các đường cut-out hai bên hông lấy cảm hứng từ chủ đề \"Thiên thần sinh thái\" của cuộc thi năm nay. Cô phối cùng áo choàng in hình các sinh vật biển.\n",
            "Phần thi được ghi hình từ hồ bơi trên sân thượng một chung cư cao cấp ở TP HCM. Năm nay, Miss Earth tổ chức thi trực tuyến, thí sinh tự ghi hình và gửi về cho ban tổ chức trình chiếu, chấm điểm.\n",
            "Thái Thị Hoa 26 tuổi, quê ở Gia Lai. Cô cao 1,75 mét, số đo ba vòng lần lượt 84 - 62 - 95 cm, từng thi Hoa hậu Hoàn vũ Việt Nam 2017, vào top 10 cuộc thi Global Asian Model World. Cô tốt nghiệp khoa Tài chính Ngân hàng, Đại học Sài Gòn, hiện điều hành một công ty. Ngoài kinh doanh, cô tham gia biểu diễn ở một số show thời trang.\n",
            "Hoa hậu Trái đất 2020 bắt đầu từ ngày 7/10, chung kết diễn ra ngày 29/11. Cuộc thi được tổ chức từ năm 2001 đến nay. Năm 2018, Phương Khánh - đại diện Việt Nam - đăng quang.\n"
          ],
          "name": "stdout"
        }
      ]
    }
  ]
}